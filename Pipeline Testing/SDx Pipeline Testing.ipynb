{
 "cells": [
  {
   "cell_type": "code",
   "execution_count": 1,
   "metadata": {},
   "outputs": [],
   "source": [
    "import numpy as np\n",
    "import pandas as pd\n",
    "import random"
   ]
  },
  {
   "cell_type": "markdown",
   "metadata": {},
   "source": [
    "# Getting Data"
   ]
  },
  {
   "cell_type": "code",
   "execution_count": 2,
   "metadata": {},
   "outputs": [],
   "source": [
    "df = pd.read_csv(r'C:\\Users\\caron\\OneDrive - University of North Carolina at Chapel Hill\\Honors Project\\CSV Files\\MRI Data.csv')"
   ]
  },
  {
   "cell_type": "markdown",
   "metadata": {},
   "source": [
    "## For Cross Val"
   ]
  },
  {
   "cell_type": "code",
   "execution_count": 3,
   "metadata": {},
   "outputs": [],
   "source": [
    "temp = pd.concat([df.loc[0:, ['SDx']], df.loc[0:, 'L_LatVent': 'R_insula_surfavg']], axis=1, sort=False)\n",
    "temp = temp.dropna(how='any')\n",
    "df1 = temp.loc[0:, ['SDx']]\n",
    "df2 = temp.loc[0:, 'L_LatVent': 'R_insula_surfavg']"
   ]
  },
  {
   "cell_type": "markdown",
   "metadata": {},
   "source": [
    "## For Split"
   ]
  },
  {
   "cell_type": "code",
   "execution_count": 4,
   "metadata": {},
   "outputs": [],
   "source": [
    "temp2 = pd.concat([df.loc[0:, ['SDx']], df.loc[0:, 'L_LatVent': 'R_insula_surfavg']], axis=1, sort=False).dropna(how='any').sample(frac=1).reset_index(drop=True)  \n",
    "train = temp2[:523]\n",
    "test = temp2[523:]\n",
    "df1_train = train.loc[0:, ['SDx']]\n",
    "df2_train = train.loc[0:, 'L_LatVent': 'R_insula_surfavg']\n",
    "df1_test = test.loc[0:, ['SDx']]\n",
    "df2_test = test.loc[0:, 'L_LatVent': 'R_insula_surfavg']"
   ]
  },
  {
   "cell_type": "markdown",
   "metadata": {},
   "source": [
    "## To numpy array"
   ]
  },
  {
   "cell_type": "code",
   "execution_count": 5,
   "metadata": {},
   "outputs": [],
   "source": [
    "y = np.array(df1).ravel()\n",
    "x = np.array(df2)\n",
    "y_train = np.array(df1_train).ravel()\n",
    "x_train = np.array(df2_train)\n",
    "y_test = np.array(df1_test).ravel()\n",
    "x_test = np.array(df2_test)"
   ]
  },
  {
   "cell_type": "markdown",
   "metadata": {},
   "source": [
    "# Data Preprocessing and Normalization Models"
   ]
  },
  {
   "cell_type": "code",
   "execution_count": 6,
   "metadata": {},
   "outputs": [],
   "source": [
    "from sklearn.preprocessing import MinMaxScaler\n",
    "from sklearn.preprocessing import RobustScaler\n",
    "from sklearn.preprocessing import StandardScaler\n",
    "from sklearn.preprocessing import QuantileTransformer\n",
    "from sklearn.preprocessing import Normalizer\n",
    "from sklearn.preprocessing import PowerTransformer"
   ]
  },
  {
   "cell_type": "code",
   "execution_count": 7,
   "metadata": {},
   "outputs": [],
   "source": [
    "minMax = MinMaxScaler()\n",
    "robust = RobustScaler()\n",
    "standard = StandardScaler()\n",
    "quantile = QuantileTransformer()\n",
    "normal = Normalizer()\n",
    "power = PowerTransformer()"
   ]
  },
  {
   "cell_type": "markdown",
   "metadata": {},
   "source": [
    "# SVC Models"
   ]
  },
  {
   "cell_type": "code",
   "execution_count": 8,
   "metadata": {},
   "outputs": [],
   "source": [
    "from sklearn.svm import SVC, LinearSVC"
   ]
  },
  {
   "cell_type": "code",
   "execution_count": 9,
   "metadata": {},
   "outputs": [],
   "source": [
    "svc = SVC(probability=True, gamma='scale')\n",
    "lsvc = LinearSVC()"
   ]
  },
  {
   "cell_type": "markdown",
   "metadata": {},
   "source": [
    "# Pipelines"
   ]
  },
  {
   "cell_type": "code",
   "execution_count": 10,
   "metadata": {},
   "outputs": [],
   "source": [
    "from sklearn.pipeline import Pipeline"
   ]
  },
  {
   "cell_type": "code",
   "execution_count": 11,
   "metadata": {},
   "outputs": [],
   "source": [
    "pl1 = Pipeline([('minMax', minMax), ('svc', svc)])\n",
    "pl1b = Pipeline([('minMax', minMax), ('lsvc', lsvc)])# linearSVC with min max pl1b\n",
    "pl1c = Pipeline([('minMax', minMax), ('svc', svc)])# svc/minMax w/ linear kernel\n",
    "pl2 = Pipeline([('robust', robust), ('svc', svc)])\n",
    "pl3 = Pipeline([('standard', standard), ('svc', svc)])\n",
    "pl4 = Pipeline([('quantile', quantile), ('svc', svc)])\n",
    "pl5 = Pipeline([('normal', normal), ('svc', svc)])\n",
    "pl6 = Pipeline([('power', power), ('svc', svc)])\n",
    "plall = Pipeline([('minMax', minMax), ('robust', robust), ('standard', standard), ('quantile', quantile), ('normal', normal), ('power', power), ('svc', svc)])"
   ]
  },
  {
   "cell_type": "markdown",
   "metadata": {},
   "source": [
    "# Grid Search Cross Validation"
   ]
  },
  {
   "cell_type": "code",
   "execution_count": 12,
   "metadata": {},
   "outputs": [],
   "source": [
    "from sklearn.model_selection import GridSearchCV"
   ]
  },
  {
   "cell_type": "markdown",
   "metadata": {},
   "source": [
    "## pl1 (minMax)"
   ]
  },
  {
   "cell_type": "markdown",
   "metadata": {},
   "source": [
    "* Transform features by scaling each feature to a given range."
   ]
  },
  {
   "cell_type": "code",
   "execution_count": 13,
   "metadata": {
    "scrolled": true
   },
   "outputs": [],
   "source": [
    "# super hunky test w/ 5 folds and many parameters\n",
    "#parameters1 = {'svc__kernel':('linear', 'poly', 'rbf'), 'svc__C':(.01, .02, .03, .04, .05, .06, .07, .08, .09, .1, .2, .3, .4, .5, .6, .7, .8, .9, 1, 2, 3, 4, 5, 6, 7, 8, 9, 10), 'svc__degree':(0.5, 1, 1.5, 2, 2.5, 3), 'svc__gamma':('auto','scale')}\n",
    "#cv1 = GridSearchCV(pl1, parameters1, iid = False, cv=5)\n",
    "#cv1.fit(x, y)\n",
    "\n",
    "#print('best score:', end=\" \")\n",
    "#print(cv1.best_score_)\n",
    "#print('\\nbest params:', end=\" \")\n",
    "#print(cv1.best_params_)\n",
    "#print('\\nbest index:', end=\" \")\n",
    "#print(cv1.best_index_)\n",
    "#print(cv1.best_estimator_)\n",
    "#print(pd.DataFrame(data=cv1.cv_results_))"
   ]
  },
  {
   "cell_type": "code",
   "execution_count": 14,
   "metadata": {},
   "outputs": [
    {
     "ename": "KeyboardInterrupt",
     "evalue": "",
     "output_type": "error",
     "traceback": [
      "\u001b[1;31m---------------------------------------------------------------------------\u001b[0m",
      "\u001b[1;31mKeyboardInterrupt\u001b[0m                         Traceback (most recent call last)",
      "\u001b[1;32m<ipython-input-14-aaa87d3145e0>\u001b[0m in \u001b[0;36m<module>\u001b[1;34m\u001b[0m\n\u001b[0;32m      1\u001b[0m \u001b[0mparameters1\u001b[0m \u001b[1;33m=\u001b[0m \u001b[1;33m{\u001b[0m\u001b[1;34m'svc__C'\u001b[0m\u001b[1;33m:\u001b[0m\u001b[1;33m(\u001b[0m\u001b[1;36m1.6\u001b[0m\u001b[1;33m,\u001b[0m \u001b[1;36m1.7\u001b[0m\u001b[1;33m,\u001b[0m \u001b[1;36m1.8\u001b[0m\u001b[1;33m,\u001b[0m \u001b[1;36m1.9\u001b[0m\u001b[1;33m)\u001b[0m\u001b[1;33m,\u001b[0m \u001b[1;34m'svc__gamma'\u001b[0m\u001b[1;33m:\u001b[0m\u001b[1;33m(\u001b[0m\u001b[1;34m'auto'\u001b[0m\u001b[1;33m,\u001b[0m\u001b[1;34m'scale'\u001b[0m\u001b[1;33m)\u001b[0m\u001b[1;33m}\u001b[0m\u001b[1;33m\u001b[0m\u001b[1;33m\u001b[0m\u001b[0m\n\u001b[0;32m      2\u001b[0m \u001b[0mcv1\u001b[0m \u001b[1;33m=\u001b[0m \u001b[0mGridSearchCV\u001b[0m\u001b[1;33m(\u001b[0m\u001b[0mpl1\u001b[0m\u001b[1;33m,\u001b[0m \u001b[0mparameters1\u001b[0m\u001b[1;33m,\u001b[0m \u001b[0miid\u001b[0m \u001b[1;33m=\u001b[0m \u001b[1;32mFalse\u001b[0m\u001b[1;33m,\u001b[0m \u001b[0mcv\u001b[0m\u001b[1;33m=\u001b[0m\u001b[1;36m10\u001b[0m\u001b[1;33m)\u001b[0m\u001b[1;33m\u001b[0m\u001b[1;33m\u001b[0m\u001b[0m\n\u001b[1;32m----> 3\u001b[1;33m \u001b[0mcv1\u001b[0m\u001b[1;33m.\u001b[0m\u001b[0mfit\u001b[0m\u001b[1;33m(\u001b[0m\u001b[0mx\u001b[0m\u001b[1;33m,\u001b[0m \u001b[0my\u001b[0m\u001b[1;33m)\u001b[0m\u001b[1;33m\u001b[0m\u001b[1;33m\u001b[0m\u001b[0m\n\u001b[0m\u001b[0;32m      4\u001b[0m \u001b[1;33m\u001b[0m\u001b[0m\n\u001b[0;32m      5\u001b[0m \u001b[0mprint\u001b[0m\u001b[1;33m(\u001b[0m\u001b[1;34m'best score:'\u001b[0m\u001b[1;33m,\u001b[0m \u001b[0mend\u001b[0m\u001b[1;33m=\u001b[0m\u001b[1;34m\" \"\u001b[0m\u001b[1;33m)\u001b[0m\u001b[1;33m\u001b[0m\u001b[1;33m\u001b[0m\u001b[0m\n",
      "\u001b[1;32m~\\Anaconda3\\lib\\site-packages\\sklearn\\model_selection\\_search.py\u001b[0m in \u001b[0;36mfit\u001b[1;34m(self, X, y, groups, **fit_params)\u001b[0m\n\u001b[0;32m    686\u001b[0m                 \u001b[1;32mreturn\u001b[0m \u001b[0mresults\u001b[0m\u001b[1;33m\u001b[0m\u001b[1;33m\u001b[0m\u001b[0m\n\u001b[0;32m    687\u001b[0m \u001b[1;33m\u001b[0m\u001b[0m\n\u001b[1;32m--> 688\u001b[1;33m             \u001b[0mself\u001b[0m\u001b[1;33m.\u001b[0m\u001b[0m_run_search\u001b[0m\u001b[1;33m(\u001b[0m\u001b[0mevaluate_candidates\u001b[0m\u001b[1;33m)\u001b[0m\u001b[1;33m\u001b[0m\u001b[1;33m\u001b[0m\u001b[0m\n\u001b[0m\u001b[0;32m    689\u001b[0m \u001b[1;33m\u001b[0m\u001b[0m\n\u001b[0;32m    690\u001b[0m         \u001b[1;31m# For multi-metric evaluation, store the best_index_, best_params_ and\u001b[0m\u001b[1;33m\u001b[0m\u001b[1;33m\u001b[0m\u001b[1;33m\u001b[0m\u001b[0m\n",
      "\u001b[1;32m~\\Anaconda3\\lib\\site-packages\\sklearn\\model_selection\\_search.py\u001b[0m in \u001b[0;36m_run_search\u001b[1;34m(self, evaluate_candidates)\u001b[0m\n\u001b[0;32m   1147\u001b[0m     \u001b[1;32mdef\u001b[0m \u001b[0m_run_search\u001b[0m\u001b[1;33m(\u001b[0m\u001b[0mself\u001b[0m\u001b[1;33m,\u001b[0m \u001b[0mevaluate_candidates\u001b[0m\u001b[1;33m)\u001b[0m\u001b[1;33m:\u001b[0m\u001b[1;33m\u001b[0m\u001b[1;33m\u001b[0m\u001b[0m\n\u001b[0;32m   1148\u001b[0m         \u001b[1;34m\"\"\"Search all candidates in param_grid\"\"\"\u001b[0m\u001b[1;33m\u001b[0m\u001b[1;33m\u001b[0m\u001b[0m\n\u001b[1;32m-> 1149\u001b[1;33m         \u001b[0mevaluate_candidates\u001b[0m\u001b[1;33m(\u001b[0m\u001b[0mParameterGrid\u001b[0m\u001b[1;33m(\u001b[0m\u001b[0mself\u001b[0m\u001b[1;33m.\u001b[0m\u001b[0mparam_grid\u001b[0m\u001b[1;33m)\u001b[0m\u001b[1;33m)\u001b[0m\u001b[1;33m\u001b[0m\u001b[1;33m\u001b[0m\u001b[0m\n\u001b[0m\u001b[0;32m   1150\u001b[0m \u001b[1;33m\u001b[0m\u001b[0m\n\u001b[0;32m   1151\u001b[0m \u001b[1;33m\u001b[0m\u001b[0m\n",
      "\u001b[1;32m~\\Anaconda3\\lib\\site-packages\\sklearn\\model_selection\\_search.py\u001b[0m in \u001b[0;36mevaluate_candidates\u001b[1;34m(candidate_params)\u001b[0m\n\u001b[0;32m    665\u001b[0m                                \u001b[1;32mfor\u001b[0m \u001b[0mparameters\u001b[0m\u001b[1;33m,\u001b[0m \u001b[1;33m(\u001b[0m\u001b[0mtrain\u001b[0m\u001b[1;33m,\u001b[0m \u001b[0mtest\u001b[0m\u001b[1;33m)\u001b[0m\u001b[1;33m\u001b[0m\u001b[1;33m\u001b[0m\u001b[0m\n\u001b[0;32m    666\u001b[0m                                in product(candidate_params,\n\u001b[1;32m--> 667\u001b[1;33m                                           cv.split(X, y, groups)))\n\u001b[0m\u001b[0;32m    668\u001b[0m \u001b[1;33m\u001b[0m\u001b[0m\n\u001b[0;32m    669\u001b[0m                 \u001b[1;32mif\u001b[0m \u001b[0mlen\u001b[0m\u001b[1;33m(\u001b[0m\u001b[0mout\u001b[0m\u001b[1;33m)\u001b[0m \u001b[1;33m<\u001b[0m \u001b[1;36m1\u001b[0m\u001b[1;33m:\u001b[0m\u001b[1;33m\u001b[0m\u001b[1;33m\u001b[0m\u001b[0m\n",
      "\u001b[1;32m~\\Anaconda3\\lib\\site-packages\\joblib\\parallel.py\u001b[0m in \u001b[0;36m__call__\u001b[1;34m(self, iterable)\u001b[0m\n\u001b[0;32m    922\u001b[0m                 \u001b[0mself\u001b[0m\u001b[1;33m.\u001b[0m\u001b[0m_iterating\u001b[0m \u001b[1;33m=\u001b[0m \u001b[0mself\u001b[0m\u001b[1;33m.\u001b[0m\u001b[0m_original_iterator\u001b[0m \u001b[1;32mis\u001b[0m \u001b[1;32mnot\u001b[0m \u001b[1;32mNone\u001b[0m\u001b[1;33m\u001b[0m\u001b[1;33m\u001b[0m\u001b[0m\n\u001b[0;32m    923\u001b[0m \u001b[1;33m\u001b[0m\u001b[0m\n\u001b[1;32m--> 924\u001b[1;33m             \u001b[1;32mwhile\u001b[0m \u001b[0mself\u001b[0m\u001b[1;33m.\u001b[0m\u001b[0mdispatch_one_batch\u001b[0m\u001b[1;33m(\u001b[0m\u001b[0miterator\u001b[0m\u001b[1;33m)\u001b[0m\u001b[1;33m:\u001b[0m\u001b[1;33m\u001b[0m\u001b[1;33m\u001b[0m\u001b[0m\n\u001b[0m\u001b[0;32m    925\u001b[0m                 \u001b[1;32mpass\u001b[0m\u001b[1;33m\u001b[0m\u001b[1;33m\u001b[0m\u001b[0m\n\u001b[0;32m    926\u001b[0m \u001b[1;33m\u001b[0m\u001b[0m\n",
      "\u001b[1;32m~\\Anaconda3\\lib\\site-packages\\joblib\\parallel.py\u001b[0m in \u001b[0;36mdispatch_one_batch\u001b[1;34m(self, iterator)\u001b[0m\n\u001b[0;32m    757\u001b[0m                 \u001b[1;32mreturn\u001b[0m \u001b[1;32mFalse\u001b[0m\u001b[1;33m\u001b[0m\u001b[1;33m\u001b[0m\u001b[0m\n\u001b[0;32m    758\u001b[0m             \u001b[1;32melse\u001b[0m\u001b[1;33m:\u001b[0m\u001b[1;33m\u001b[0m\u001b[1;33m\u001b[0m\u001b[0m\n\u001b[1;32m--> 759\u001b[1;33m                 \u001b[0mself\u001b[0m\u001b[1;33m.\u001b[0m\u001b[0m_dispatch\u001b[0m\u001b[1;33m(\u001b[0m\u001b[0mtasks\u001b[0m\u001b[1;33m)\u001b[0m\u001b[1;33m\u001b[0m\u001b[1;33m\u001b[0m\u001b[0m\n\u001b[0m\u001b[0;32m    760\u001b[0m                 \u001b[1;32mreturn\u001b[0m \u001b[1;32mTrue\u001b[0m\u001b[1;33m\u001b[0m\u001b[1;33m\u001b[0m\u001b[0m\n\u001b[0;32m    761\u001b[0m \u001b[1;33m\u001b[0m\u001b[0m\n",
      "\u001b[1;32m~\\Anaconda3\\lib\\site-packages\\joblib\\parallel.py\u001b[0m in \u001b[0;36m_dispatch\u001b[1;34m(self, batch)\u001b[0m\n\u001b[0;32m    714\u001b[0m         \u001b[1;32mwith\u001b[0m \u001b[0mself\u001b[0m\u001b[1;33m.\u001b[0m\u001b[0m_lock\u001b[0m\u001b[1;33m:\u001b[0m\u001b[1;33m\u001b[0m\u001b[1;33m\u001b[0m\u001b[0m\n\u001b[0;32m    715\u001b[0m             \u001b[0mjob_idx\u001b[0m \u001b[1;33m=\u001b[0m \u001b[0mlen\u001b[0m\u001b[1;33m(\u001b[0m\u001b[0mself\u001b[0m\u001b[1;33m.\u001b[0m\u001b[0m_jobs\u001b[0m\u001b[1;33m)\u001b[0m\u001b[1;33m\u001b[0m\u001b[1;33m\u001b[0m\u001b[0m\n\u001b[1;32m--> 716\u001b[1;33m             \u001b[0mjob\u001b[0m \u001b[1;33m=\u001b[0m \u001b[0mself\u001b[0m\u001b[1;33m.\u001b[0m\u001b[0m_backend\u001b[0m\u001b[1;33m.\u001b[0m\u001b[0mapply_async\u001b[0m\u001b[1;33m(\u001b[0m\u001b[0mbatch\u001b[0m\u001b[1;33m,\u001b[0m \u001b[0mcallback\u001b[0m\u001b[1;33m=\u001b[0m\u001b[0mcb\u001b[0m\u001b[1;33m)\u001b[0m\u001b[1;33m\u001b[0m\u001b[1;33m\u001b[0m\u001b[0m\n\u001b[0m\u001b[0;32m    717\u001b[0m             \u001b[1;31m# A job can complete so quickly than its callback is\u001b[0m\u001b[1;33m\u001b[0m\u001b[1;33m\u001b[0m\u001b[1;33m\u001b[0m\u001b[0m\n\u001b[0;32m    718\u001b[0m             \u001b[1;31m# called before we get here, causing self._jobs to\u001b[0m\u001b[1;33m\u001b[0m\u001b[1;33m\u001b[0m\u001b[1;33m\u001b[0m\u001b[0m\n",
      "\u001b[1;32m~\\Anaconda3\\lib\\site-packages\\joblib\\_parallel_backends.py\u001b[0m in \u001b[0;36mapply_async\u001b[1;34m(self, func, callback)\u001b[0m\n\u001b[0;32m    180\u001b[0m     \u001b[1;32mdef\u001b[0m \u001b[0mapply_async\u001b[0m\u001b[1;33m(\u001b[0m\u001b[0mself\u001b[0m\u001b[1;33m,\u001b[0m \u001b[0mfunc\u001b[0m\u001b[1;33m,\u001b[0m \u001b[0mcallback\u001b[0m\u001b[1;33m=\u001b[0m\u001b[1;32mNone\u001b[0m\u001b[1;33m)\u001b[0m\u001b[1;33m:\u001b[0m\u001b[1;33m\u001b[0m\u001b[1;33m\u001b[0m\u001b[0m\n\u001b[0;32m    181\u001b[0m         \u001b[1;34m\"\"\"Schedule a func to be run\"\"\"\u001b[0m\u001b[1;33m\u001b[0m\u001b[1;33m\u001b[0m\u001b[0m\n\u001b[1;32m--> 182\u001b[1;33m         \u001b[0mresult\u001b[0m \u001b[1;33m=\u001b[0m \u001b[0mImmediateResult\u001b[0m\u001b[1;33m(\u001b[0m\u001b[0mfunc\u001b[0m\u001b[1;33m)\u001b[0m\u001b[1;33m\u001b[0m\u001b[1;33m\u001b[0m\u001b[0m\n\u001b[0m\u001b[0;32m    183\u001b[0m         \u001b[1;32mif\u001b[0m \u001b[0mcallback\u001b[0m\u001b[1;33m:\u001b[0m\u001b[1;33m\u001b[0m\u001b[1;33m\u001b[0m\u001b[0m\n\u001b[0;32m    184\u001b[0m             \u001b[0mcallback\u001b[0m\u001b[1;33m(\u001b[0m\u001b[0mresult\u001b[0m\u001b[1;33m)\u001b[0m\u001b[1;33m\u001b[0m\u001b[1;33m\u001b[0m\u001b[0m\n",
      "\u001b[1;32m~\\Anaconda3\\lib\\site-packages\\joblib\\_parallel_backends.py\u001b[0m in \u001b[0;36m__init__\u001b[1;34m(self, batch)\u001b[0m\n\u001b[0;32m    547\u001b[0m         \u001b[1;31m# Don't delay the application, to avoid keeping the input\u001b[0m\u001b[1;33m\u001b[0m\u001b[1;33m\u001b[0m\u001b[1;33m\u001b[0m\u001b[0m\n\u001b[0;32m    548\u001b[0m         \u001b[1;31m# arguments in memory\u001b[0m\u001b[1;33m\u001b[0m\u001b[1;33m\u001b[0m\u001b[1;33m\u001b[0m\u001b[0m\n\u001b[1;32m--> 549\u001b[1;33m         \u001b[0mself\u001b[0m\u001b[1;33m.\u001b[0m\u001b[0mresults\u001b[0m \u001b[1;33m=\u001b[0m \u001b[0mbatch\u001b[0m\u001b[1;33m(\u001b[0m\u001b[1;33m)\u001b[0m\u001b[1;33m\u001b[0m\u001b[1;33m\u001b[0m\u001b[0m\n\u001b[0m\u001b[0;32m    550\u001b[0m \u001b[1;33m\u001b[0m\u001b[0m\n\u001b[0;32m    551\u001b[0m     \u001b[1;32mdef\u001b[0m \u001b[0mget\u001b[0m\u001b[1;33m(\u001b[0m\u001b[0mself\u001b[0m\u001b[1;33m)\u001b[0m\u001b[1;33m:\u001b[0m\u001b[1;33m\u001b[0m\u001b[1;33m\u001b[0m\u001b[0m\n",
      "\u001b[1;32m~\\Anaconda3\\lib\\site-packages\\joblib\\parallel.py\u001b[0m in \u001b[0;36m__call__\u001b[1;34m(self)\u001b[0m\n\u001b[0;32m    223\u001b[0m         \u001b[1;32mwith\u001b[0m \u001b[0mparallel_backend\u001b[0m\u001b[1;33m(\u001b[0m\u001b[0mself\u001b[0m\u001b[1;33m.\u001b[0m\u001b[0m_backend\u001b[0m\u001b[1;33m,\u001b[0m \u001b[0mn_jobs\u001b[0m\u001b[1;33m=\u001b[0m\u001b[0mself\u001b[0m\u001b[1;33m.\u001b[0m\u001b[0m_n_jobs\u001b[0m\u001b[1;33m)\u001b[0m\u001b[1;33m:\u001b[0m\u001b[1;33m\u001b[0m\u001b[1;33m\u001b[0m\u001b[0m\n\u001b[0;32m    224\u001b[0m             return [func(*args, **kwargs)\n\u001b[1;32m--> 225\u001b[1;33m                     for func, args, kwargs in self.items]\n\u001b[0m\u001b[0;32m    226\u001b[0m \u001b[1;33m\u001b[0m\u001b[0m\n\u001b[0;32m    227\u001b[0m     \u001b[1;32mdef\u001b[0m \u001b[0m__len__\u001b[0m\u001b[1;33m(\u001b[0m\u001b[0mself\u001b[0m\u001b[1;33m)\u001b[0m\u001b[1;33m:\u001b[0m\u001b[1;33m\u001b[0m\u001b[1;33m\u001b[0m\u001b[0m\n",
      "\u001b[1;32m~\\Anaconda3\\lib\\site-packages\\joblib\\parallel.py\u001b[0m in \u001b[0;36m<listcomp>\u001b[1;34m(.0)\u001b[0m\n\u001b[0;32m    223\u001b[0m         \u001b[1;32mwith\u001b[0m \u001b[0mparallel_backend\u001b[0m\u001b[1;33m(\u001b[0m\u001b[0mself\u001b[0m\u001b[1;33m.\u001b[0m\u001b[0m_backend\u001b[0m\u001b[1;33m,\u001b[0m \u001b[0mn_jobs\u001b[0m\u001b[1;33m=\u001b[0m\u001b[0mself\u001b[0m\u001b[1;33m.\u001b[0m\u001b[0m_n_jobs\u001b[0m\u001b[1;33m)\u001b[0m\u001b[1;33m:\u001b[0m\u001b[1;33m\u001b[0m\u001b[1;33m\u001b[0m\u001b[0m\n\u001b[0;32m    224\u001b[0m             return [func(*args, **kwargs)\n\u001b[1;32m--> 225\u001b[1;33m                     for func, args, kwargs in self.items]\n\u001b[0m\u001b[0;32m    226\u001b[0m \u001b[1;33m\u001b[0m\u001b[0m\n\u001b[0;32m    227\u001b[0m     \u001b[1;32mdef\u001b[0m \u001b[0m__len__\u001b[0m\u001b[1;33m(\u001b[0m\u001b[0mself\u001b[0m\u001b[1;33m)\u001b[0m\u001b[1;33m:\u001b[0m\u001b[1;33m\u001b[0m\u001b[1;33m\u001b[0m\u001b[0m\n",
      "\u001b[1;32m~\\Anaconda3\\lib\\site-packages\\sklearn\\model_selection\\_validation.py\u001b[0m in \u001b[0;36m_fit_and_score\u001b[1;34m(estimator, X, y, scorer, train, test, verbose, parameters, fit_params, return_train_score, return_parameters, return_n_test_samples, return_times, return_estimator, error_score)\u001b[0m\n\u001b[0;32m    514\u001b[0m             \u001b[0mestimator\u001b[0m\u001b[1;33m.\u001b[0m\u001b[0mfit\u001b[0m\u001b[1;33m(\u001b[0m\u001b[0mX_train\u001b[0m\u001b[1;33m,\u001b[0m \u001b[1;33m**\u001b[0m\u001b[0mfit_params\u001b[0m\u001b[1;33m)\u001b[0m\u001b[1;33m\u001b[0m\u001b[1;33m\u001b[0m\u001b[0m\n\u001b[0;32m    515\u001b[0m         \u001b[1;32melse\u001b[0m\u001b[1;33m:\u001b[0m\u001b[1;33m\u001b[0m\u001b[1;33m\u001b[0m\u001b[0m\n\u001b[1;32m--> 516\u001b[1;33m             \u001b[0mestimator\u001b[0m\u001b[1;33m.\u001b[0m\u001b[0mfit\u001b[0m\u001b[1;33m(\u001b[0m\u001b[0mX_train\u001b[0m\u001b[1;33m,\u001b[0m \u001b[0my_train\u001b[0m\u001b[1;33m,\u001b[0m \u001b[1;33m**\u001b[0m\u001b[0mfit_params\u001b[0m\u001b[1;33m)\u001b[0m\u001b[1;33m\u001b[0m\u001b[1;33m\u001b[0m\u001b[0m\n\u001b[0m\u001b[0;32m    517\u001b[0m \u001b[1;33m\u001b[0m\u001b[0m\n\u001b[0;32m    518\u001b[0m     \u001b[1;32mexcept\u001b[0m \u001b[0mException\u001b[0m \u001b[1;32mas\u001b[0m \u001b[0me\u001b[0m\u001b[1;33m:\u001b[0m\u001b[1;33m\u001b[0m\u001b[1;33m\u001b[0m\u001b[0m\n",
      "\u001b[1;32m~\\Anaconda3\\lib\\site-packages\\sklearn\\pipeline.py\u001b[0m in \u001b[0;36mfit\u001b[1;34m(self, X, y, **fit_params)\u001b[0m\n\u001b[0;32m    354\u001b[0m                                  self._log_message(len(self.steps) - 1)):\n\u001b[0;32m    355\u001b[0m             \u001b[1;32mif\u001b[0m \u001b[0mself\u001b[0m\u001b[1;33m.\u001b[0m\u001b[0m_final_estimator\u001b[0m \u001b[1;33m!=\u001b[0m \u001b[1;34m'passthrough'\u001b[0m\u001b[1;33m:\u001b[0m\u001b[1;33m\u001b[0m\u001b[1;33m\u001b[0m\u001b[0m\n\u001b[1;32m--> 356\u001b[1;33m                 \u001b[0mself\u001b[0m\u001b[1;33m.\u001b[0m\u001b[0m_final_estimator\u001b[0m\u001b[1;33m.\u001b[0m\u001b[0mfit\u001b[0m\u001b[1;33m(\u001b[0m\u001b[0mXt\u001b[0m\u001b[1;33m,\u001b[0m \u001b[0my\u001b[0m\u001b[1;33m,\u001b[0m \u001b[1;33m**\u001b[0m\u001b[0mfit_params\u001b[0m\u001b[1;33m)\u001b[0m\u001b[1;33m\u001b[0m\u001b[1;33m\u001b[0m\u001b[0m\n\u001b[0m\u001b[0;32m    357\u001b[0m         \u001b[1;32mreturn\u001b[0m \u001b[0mself\u001b[0m\u001b[1;33m\u001b[0m\u001b[1;33m\u001b[0m\u001b[0m\n\u001b[0;32m    358\u001b[0m \u001b[1;33m\u001b[0m\u001b[0m\n",
      "\u001b[1;32m~\\Anaconda3\\lib\\site-packages\\sklearn\\svm\\base.py\u001b[0m in \u001b[0;36mfit\u001b[1;34m(self, X, y, sample_weight)\u001b[0m\n\u001b[0;32m    207\u001b[0m \u001b[1;33m\u001b[0m\u001b[0m\n\u001b[0;32m    208\u001b[0m         \u001b[0mseed\u001b[0m \u001b[1;33m=\u001b[0m \u001b[0mrnd\u001b[0m\u001b[1;33m.\u001b[0m\u001b[0mrandint\u001b[0m\u001b[1;33m(\u001b[0m\u001b[0mnp\u001b[0m\u001b[1;33m.\u001b[0m\u001b[0miinfo\u001b[0m\u001b[1;33m(\u001b[0m\u001b[1;34m'i'\u001b[0m\u001b[1;33m)\u001b[0m\u001b[1;33m.\u001b[0m\u001b[0mmax\u001b[0m\u001b[1;33m)\u001b[0m\u001b[1;33m\u001b[0m\u001b[1;33m\u001b[0m\u001b[0m\n\u001b[1;32m--> 209\u001b[1;33m         \u001b[0mfit\u001b[0m\u001b[1;33m(\u001b[0m\u001b[0mX\u001b[0m\u001b[1;33m,\u001b[0m \u001b[0my\u001b[0m\u001b[1;33m,\u001b[0m \u001b[0msample_weight\u001b[0m\u001b[1;33m,\u001b[0m \u001b[0msolver_type\u001b[0m\u001b[1;33m,\u001b[0m \u001b[0mkernel\u001b[0m\u001b[1;33m,\u001b[0m \u001b[0mrandom_seed\u001b[0m\u001b[1;33m=\u001b[0m\u001b[0mseed\u001b[0m\u001b[1;33m)\u001b[0m\u001b[1;33m\u001b[0m\u001b[1;33m\u001b[0m\u001b[0m\n\u001b[0m\u001b[0;32m    210\u001b[0m         \u001b[1;31m# see comment on the other call to np.iinfo in this file\u001b[0m\u001b[1;33m\u001b[0m\u001b[1;33m\u001b[0m\u001b[1;33m\u001b[0m\u001b[0m\n\u001b[0;32m    211\u001b[0m \u001b[1;33m\u001b[0m\u001b[0m\n",
      "\u001b[1;32m~\\Anaconda3\\lib\\site-packages\\sklearn\\svm\\base.py\u001b[0m in \u001b[0;36m_dense_fit\u001b[1;34m(self, X, y, sample_weight, solver_type, kernel, random_seed)\u001b[0m\n\u001b[0;32m    266\u001b[0m                 \u001b[0mcache_size\u001b[0m\u001b[1;33m=\u001b[0m\u001b[0mself\u001b[0m\u001b[1;33m.\u001b[0m\u001b[0mcache_size\u001b[0m\u001b[1;33m,\u001b[0m \u001b[0mcoef0\u001b[0m\u001b[1;33m=\u001b[0m\u001b[0mself\u001b[0m\u001b[1;33m.\u001b[0m\u001b[0mcoef0\u001b[0m\u001b[1;33m,\u001b[0m\u001b[1;33m\u001b[0m\u001b[1;33m\u001b[0m\u001b[0m\n\u001b[0;32m    267\u001b[0m                 \u001b[0mgamma\u001b[0m\u001b[1;33m=\u001b[0m\u001b[0mself\u001b[0m\u001b[1;33m.\u001b[0m\u001b[0m_gamma\u001b[0m\u001b[1;33m,\u001b[0m \u001b[0mepsilon\u001b[0m\u001b[1;33m=\u001b[0m\u001b[0mself\u001b[0m\u001b[1;33m.\u001b[0m\u001b[0mepsilon\u001b[0m\u001b[1;33m,\u001b[0m\u001b[1;33m\u001b[0m\u001b[1;33m\u001b[0m\u001b[0m\n\u001b[1;32m--> 268\u001b[1;33m                 max_iter=self.max_iter, random_seed=random_seed)\n\u001b[0m\u001b[0;32m    269\u001b[0m \u001b[1;33m\u001b[0m\u001b[0m\n\u001b[0;32m    270\u001b[0m         \u001b[0mself\u001b[0m\u001b[1;33m.\u001b[0m\u001b[0m_warn_from_fit_status\u001b[0m\u001b[1;33m(\u001b[0m\u001b[1;33m)\u001b[0m\u001b[1;33m\u001b[0m\u001b[1;33m\u001b[0m\u001b[0m\n",
      "\u001b[1;31mKeyboardInterrupt\u001b[0m: "
     ]
    }
   ],
   "source": [
    "parameters1 = {'svc__C':(1.6, 1.7, 1.8, 1.9), 'svc__gamma':('auto','scale')}\n",
    "cv1 = GridSearchCV(pl1, parameters1, iid = False, cv=10)\n",
    "cv1.fit(x, y)\n",
    "\n",
    "print('best score:', end=\" \")\n",
    "print(cv1.best_score_)\n",
    "print('\\nbest params:', end=\" \")\n",
    "print(cv1.best_params_)\n",
    "print('\\nbest index:', end=\" \")\n",
    "print(cv1.best_index_)\n",
    "#print('\\nbest estimator:')\n",
    "#print(cv1.best_estimator_)\n",
    "#print(pd.DataFrame(data=cv1.cv_results_))"
   ]
  },
  {
   "cell_type": "code",
   "execution_count": null,
   "metadata": {},
   "outputs": [],
   "source": [
    "# narrower test w/ 10 folds & fewer, more precise parameters\n",
    "#parameters1 = {'svc__C':(0.75, 0.76, 0.77, 0.78, 0.79, 0.8, 0.81, 0.82, 0.83, 0.84, 0.85)}\n",
    "#cv1 = GridSearchCV(pl1, parameters1, iid = False, cv=10)\n",
    "#cv1.fit(x, y)\n",
    "\n",
    "#print('best score:', end=\" \")\n",
    "#print(cv1.best_score_)\n",
    "#print('\\nbest params:', end=\" \")\n",
    "#print(cv1.best_params_)\n",
    "#print('\\nbest index:', end=\" \")\n",
    "#print(cv1.best_index_)\n",
    "#print('\\nbest estimator:')\n",
    "#print(cv1.best_estimator_)\n",
    "#print(pd.DataFrame(data=cv1.cv_results_))"
   ]
  },
  {
   "cell_type": "markdown",
   "metadata": {},
   "source": [
    "**Best MinMaxScaler/SVC = 'svc__C': 0.78, 'svc__gamma': 'scale', 'kernel':'rbf'**"
   ]
  },
  {
   "cell_type": "markdown",
   "metadata": {},
   "source": [
    "## pl1b (minMax w/ lsvc)"
   ]
  },
  {
   "cell_type": "markdown",
   "metadata": {},
   "source": [
    "* Transform features by scaling each feature to a given range.\n",
    "* Apparently, LinearSVC would be better for large (10's of thousands) data sets"
   ]
  },
  {
   "cell_type": "code",
   "execution_count": null,
   "metadata": {},
   "outputs": [],
   "source": [
    "parameters1b = {'lsvc__C':( .1, .3, .2, .4, .5)}\n",
    "cv1b = GridSearchCV(pl1b, parameters1b, iid = False, cv=10)\n",
    "cv1b.fit(x, y)\n",
    "\n",
    "print('best score:', end=\" \")\n",
    "print(cv1b.best_score_)\n",
    "print('\\nbest params:', end=\" \")\n",
    "print(cv1b.best_params_)\n",
    "print('\\nbest index:', end=\" \")\n",
    "print(cv1b.best_index_)\n",
    "#print('\\nbest estimator:')\n",
    "#print(cv1b.best_estimator_)\n",
    "#print(pd.DataFrame(data=cv1b.cv_results_))"
   ]
  },
  {
   "cell_type": "markdown",
   "metadata": {},
   "source": [
    "## pl1c (minMax w/ linear kernel only)"
   ]
  },
  {
   "cell_type": "markdown",
   "metadata": {},
   "source": [
    "* Sigmoid and linear for kernel: will always use linear because sigmoid is worse\n",
    "* For surfice model"
   ]
  },
  {
   "cell_type": "code",
   "execution_count": null,
   "metadata": {},
   "outputs": [],
   "source": [
    "parameters1c = {'svc__kernel':('sigmoid', 'linear'), 'svc__C':(0.7, 0.8, 0.4, 0.9, 1, 1.1, 1.2, 1.3)}\n",
    "cv1c = GridSearchCV(pl1c, parameters1c, iid = False, cv=10)\n",
    "cv1c.fit(x, y)\n",
    "\n",
    "print('best score:', end=\" \")\n",
    "print(cv1c.best_score_)\n",
    "print('\\nbest params:', end=\" \")\n",
    "print(cv1c.best_params_)\n",
    "print('\\nbest index:', end=\" \")\n",
    "print(cv1c.best_index_)\n",
    "#print('\\nbest estimator:')\n",
    "#print(cv1c.best_estimator_)\n",
    "#print(pd.DataFrame(data=cv1c.cv_results_))"
   ]
  },
  {
   "cell_type": "markdown",
   "metadata": {},
   "source": [
    "## pl2 (robust)"
   ]
  },
  {
   "cell_type": "markdown",
   "metadata": {},
   "source": [
    "* Scale features using statistics that are robust to outliers.\n",
    "* use pl1 to narrow down to rbf for al other normalizers/processors\n",
    "* made decision based on scores to us rbf for rest"
   ]
  },
  {
   "cell_type": "code",
   "execution_count": null,
   "metadata": {},
   "outputs": [],
   "source": [
    "parameters2 = {'svc__C':(1.8, 1.9, 2, 2.1, 2.2), 'svc__gamma':('auto','scale')}\n",
    "cv2 = GridSearchCV(pl2, parameters2, iid = False, cv=10)\n",
    "cv2.fit(x, y)\n",
    "\n",
    "print('best score:', end=\" \")\n",
    "print(cv2.best_score_)\n",
    "print('\\nbest params:', end=\" \")\n",
    "print(cv2.best_params_)\n",
    "print('\\nbest index:', end=\" \")\n",
    "print(cv2.best_index_)\n",
    "#print('\\nbest estimator:')\n",
    "#print(cv2.best_estimator_)\n",
    "#print(pd.DataFrame(data=cv2.cv_results_))"
   ]
  },
  {
   "cell_type": "markdown",
   "metadata": {},
   "source": [
    "## pl3 (standard)"
   ]
  },
  {
   "cell_type": "markdown",
   "metadata": {},
   "source": [
    "* \tStandardize features by removing the mean and scaling to unit variance\n",
    "* use pl1 to narrow down to rbf"
   ]
  },
  {
   "cell_type": "code",
   "execution_count": null,
   "metadata": {},
   "outputs": [],
   "source": [
    "parameters3 = {'svc__C':(1.5, 1.6, 1.7, 1.8), 'svc__gamma':('auto','scale')}\n",
    "cv3 = GridSearchCV(pl3, parameters3, iid = False, cv=10)\n",
    "cv3.fit(x, y)\n",
    "\n",
    "print('best score:', end=\" \")\n",
    "print(cv3.best_score_)\n",
    "print('\\nbest params:', end=\" \")\n",
    "print(cv3.best_params_)\n",
    "print('\\nbest index:', end=\" \")\n",
    "print(cv3.best_index_)\n",
    "#print('\\nbest estimator:')\n",
    "#print(cv3.best_estimator_)\n",
    "#print(pd.DataFrame(data=cv3.cv_results_))"
   ]
  },
  {
   "cell_type": "markdown",
   "metadata": {},
   "source": [
    "## pl4 (quantile)"
   ]
  },
  {
   "cell_type": "markdown",
   "metadata": {},
   "source": [
    "* Transform features using quantiles information.\n",
    "* use pl1 to narrow down to rbf"
   ]
  },
  {
   "cell_type": "code",
   "execution_count": null,
   "metadata": {},
   "outputs": [],
   "source": [
    "parameters4 = {'svc__C':(5, 6, 7, 8, 9), 'svc__gamma':('auto','scale')}\n",
    "cv4 = GridSearchCV(pl4, parameters4, iid = False, cv=10)\n",
    "cv4.fit(x, y)\n",
    "\n",
    "print('best score:', end=\" \")\n",
    "print(cv4.best_score_)\n",
    "print('\\nbest params:', end=\" \")\n",
    "print(cv4.best_params_)\n",
    "print('\\nbest index:', end=\" \")\n",
    "print(cv4.best_index_)\n",
    "#print('\\nbest estimator:')\n",
    "#print(cv4.best_estimator_)\n",
    "#print(pd.DataFrame(data=cv4.cv_results_))"
   ]
  },
  {
   "cell_type": "markdown",
   "metadata": {},
   "source": [
    "## pl5 (normal)"
   ]
  },
  {
   "cell_type": "markdown",
   "metadata": {},
   "source": [
    "* Normalize samples individually to unit norm.\n",
    "* use pl1 to narrow down to rbf"
   ]
  },
  {
   "cell_type": "code",
   "execution_count": null,
   "metadata": {},
   "outputs": [],
   "source": [
    "parameters5 = {'svc__C':(14, 15, 16, 17, 18), 'svc__gamma':('auto','scale')}\n",
    "cv5 = GridSearchCV(pl5, parameters5, iid = False, cv=10)\n",
    "cv5.fit(x, y)\n",
    "\n",
    "print('best score:', end=\" \")\n",
    "print(cv5.best_score_)\n",
    "print('\\nbest params:', end=\" \")\n",
    "print(cv5.best_params_)\n",
    "print('\\nbest index:', end=\" \")\n",
    "print(cv5.best_index_)\n",
    "#print('\\nbest estimator:')\n",
    "#print(cv5.best_estimator_)\n",
    "#print(pd.DataFrame(data=cv5.cv_results_))"
   ]
  },
  {
   "cell_type": "markdown",
   "metadata": {},
   "source": [
    "## pl6 (power)"
   ]
  },
  {
   "cell_type": "markdown",
   "metadata": {},
   "source": [
    "* Apply a power transform featurewise to make data more Gaussian-like.\n",
    "* use pl1 to narrow down to rbf"
   ]
  },
  {
   "cell_type": "code",
   "execution_count": null,
   "metadata": {},
   "outputs": [],
   "source": [
    "parameters6 = {'svc__C':(1.3, 1.4, 1.5, 1.6, 1.7), 'svc__gamma':('auto','scale')}\n",
    "cv6 = GridSearchCV(pl6, parameters6, iid = False, cv=10)\n",
    "cv6.fit(x, y)\n",
    "\n",
    "print('best score:', end=\" \")\n",
    "print(cv6.best_score_)\n",
    "print('\\nbest params:', end=\" \")\n",
    "print(cv6.best_params_)\n",
    "print('\\nbest index:', end=\" \")\n",
    "print(cv6.best_index_)\n",
    "#print('\\nbest estimator:')\n",
    "#print(cv6.best_estimator_)\n",
    "#print(pd.DataFrame(data=cv6.cv_results_))"
   ]
  },
  {
   "cell_type": "markdown",
   "metadata": {},
   "source": [
    "# plall (all)"
   ]
  },
  {
   "cell_type": "markdown",
   "metadata": {},
   "source": [
    "* Has all normalization models in one"
   ]
  },
  {
   "cell_type": "code",
   "execution_count": null,
   "metadata": {
    "scrolled": true
   },
   "outputs": [],
   "source": [
    "parametersall = {'svc__kernel':('rbf', 'linear', 'poly'), 'svc__C':(.1, 1, 10, 100), 'svc__degree':(1, 2, 3), 'svc__gamma':('auto','scale')}\n",
    "cvall = GridSearchCV(plall, parametersall, iid = False, cv=5)\n",
    "cvall.fit(x, y)\n",
    "\n",
    "print('best score:', end=\" \")\n",
    "print(cvall.best_score_)\n",
    "print('\\nbest params:', end=\" \")\n",
    "print(cvall.best_params_)\n",
    "print('\\nbest index:', end=\" \")\n",
    "print(cvall.best_index_)\n",
    "#print('\\nbest estimator:')\n",
    "#print(cv6.best_estimator_)\n",
    "#print(pd.DataFrame(data=cv6.cv_results_))"
   ]
  },
  {
   "cell_type": "markdown",
   "metadata": {},
   "source": [
    "# Cross val comparison tool"
   ]
  },
  {
   "cell_type": "markdown",
   "metadata": {},
   "source": [
    "* interchange pipelines and parameters"
   ]
  },
  {
   "cell_type": "code",
   "execution_count": null,
   "metadata": {},
   "outputs": [],
   "source": [
    "# for testing parameter combinations\n",
    "# note that this is for one dataset so cv best parameters may not be same as here\n",
    "pltest = Pipeline([('minMax', minMax), ('svc', svc)])\n",
    "pltest.set_params(svc__C=1.7, svc__degree=1, svc__gamma='scale', svc__kernel='rbf')\n",
    "pltest.fit(x_train, y_train)\n",
    "pltest.score(x_test, y_test)"
   ]
  },
  {
   "cell_type": "markdown",
   "metadata": {},
   "source": [
    "# predict_proba"
   ]
  },
  {
   "cell_type": "code",
   "execution_count": null,
   "metadata": {},
   "outputs": [],
   "source": [
    "parameters = {'svc__C':(.78, .79), 'svc__gamma':('auto','scale')}\n",
    "cv = GridSearchCV(pl1, parameters, iid = False, cv=10)\n",
    "cv.fit(x, y)\n",
    "\n",
    "cv.predict_proba(np.array(df2[1000:1001]))"
   ]
  },
  {
   "cell_type": "markdown",
   "metadata": {},
   "source": [
    "* **99.9% chance of positive SDx**"
   ]
  },
  {
   "cell_type": "markdown",
   "metadata": {},
   "source": [
    "# Trials"
   ]
  },
  {
   "cell_type": "markdown",
   "metadata": {},
   "source": [
    "minMax Test 1: best score: 0.8941664888509548 {'svc__C': 1.7, 'svc__gamma': 'scale'}\n",
    "\n",
    "minMax Test 2: best score: 0.8941664888509548 {'svc__C': 1.7, 'svc__gamma': 'scale'}\n",
    "\n",
    "minMax Test 3: best score: 0.8941664888509548 {'svc__C': 1.7, 'svc__gamma': 'scale'}\n",
    "\n",
    "minMax Test 4: best score: 0.8941664888509548 {'svc__C': 1.7, 'svc__gamma': 'scale'}\n",
    "\n",
    "minMax Test 5: best score: 0.8941664888509548 {'svc__C': 1.7, 'svc__gamma': 'scale'}"
   ]
  },
  {
   "cell_type": "markdown",
   "metadata": {},
   "source": [
    "minMax w/lsvc Test 1: best score: 0.8807135744514385 {'lsvc__C': 0.2}\n",
    "\n",
    "minMax w/lsvc Test 2: best score: 0.8807135744514385 {'lsvc__C': 0.2}\n",
    "\n",
    "minMax w/lsvc Test 3: best score: 0.8807135744514385 {'lsvc__C': 0.2}\n",
    "\n",
    "minMax w/lsvc Test 4: best score: 0.8807135744514385 {'lsvc__C': 0.2}\n",
    "\n",
    "minMax w/lsvc Test 5: best score: 0.8807135744514385 {'lsvc__C': 0.2}"
   ]
  },
  {
   "cell_type": "markdown",
   "metadata": {},
   "source": [
    "-\n",
    "\n",
    "-\n",
    "\n",
    "minMax SVC w/ linear kernel: best score: 0.890356965041431 {'svc__C': 0.4}\n",
    "\n",
    "-\n",
    "\n",
    "-\n"
   ]
  },
  {
   "cell_type": "markdown",
   "metadata": {},
   "source": [
    "robust Test 1: best score: 0.8884522031366691 {'svc__C': 2, 'svc__gamma': 'auto'}\n",
    "\n",
    "robust Test 2: best score: 0.8884522031366691 {'svc__C': 2, 'svc__gamma': 'auto'}\n",
    "\n",
    "robust Test 3: best score: 0.8884522031366691 {'svc__C': 2, 'svc__gamma': 'auto'}\n",
    "\n",
    "robust Test 4: best score: 0.8884522031366691 {'svc__C': 2, 'svc__gamma': 'auto'}\n",
    "\n",
    "robust Test 5: best score: 0.8884522031366691 {'svc__C': 2, 'svc__gamma': 'auto'}"
   ]
  },
  {
   "cell_type": "markdown",
   "metadata": {},
   "source": [
    "standard Test 1: best score: 0.8894045840890501 {'svc__C': 1.6, 'svc__gamma': 'auto'}\n",
    "\n",
    "standard Test 2: best score: 0.8894045840890501 {'svc__C': 1.6, 'svc__gamma': 'auto'}\n",
    "\n",
    "standard Test 3: best score: 0.8894045840890501 {'svc__C': 1.6, 'svc__gamma': 'auto'}\n",
    "\n",
    "standard Test 4: best score: 0.8894045840890501 {'svc__C': 1.6, 'svc__gamma': 'auto'}\n",
    "\n",
    "standard Test 5: best score: 0.8894045840890501 {'svc__C': 1.6, 'svc__gamma': 'auto'}"
   ]
  },
  {
   "cell_type": "markdown",
   "metadata": {},
   "source": [
    "quantile Test 1: best score: 0.870255876809275 {'svc__C': 7, 'svc__gamma': 'auto'}\n",
    "\n",
    "quantile Test 2: best score: 0.870255876809275 {'svc__C': 7, 'svc__gamma': 'auto'}\n",
    "\n",
    "quantile Test 3: best score: 0.870255876809275 {'svc__C': 7, 'svc__gamma': 'auto'}\n",
    "\n",
    "quantile Test 4: best score: 0.870255876809275 {'svc__C': 7, 'svc__gamma': 'auto'}\n",
    "\n",
    "quantile Test 5: best score: 0.870255876809275 {'svc__C': 7, 'svc__gamma': 'auto'}"
   ]
  },
  {
   "cell_type": "markdown",
   "metadata": {},
   "source": [
    "normal Test 1: best score: 0.8912172374551016 {'svc__C': 16, 'svc__gamma': 'scale'}\n",
    "\n",
    "normal Test 2: best score: 0.8912172374551016 {'svc__C': 16, 'svc__gamma': 'scale'}\n",
    "\n",
    "normal Test 3: best score: 0.8912172374551016 {'svc__C': 16, 'svc__gamma': 'scale'}\n",
    "\n",
    "normal Test 4: best score: 0.8912172374551016 {'svc__C': 16, 'svc__gamma': 'scale'}\n",
    "\n",
    "normal Test 5: best score: 0.8912172374551016 {'svc__C': 16, 'svc__gamma': 'scale'}"
   ]
  },
  {
   "cell_type": "markdown",
   "metadata": {},
   "source": [
    "power Test 1: best score: 0.8865474412319072 {'svc__C': 1.5, 'svc__gamma': 'auto'}\n",
    "\n",
    "power Test 2: best score: 0.8865474412319072 {'svc__C': 1.5, 'svc__gamma': 'auto'}\n",
    "\n",
    "power Test 3: best score: 0.8865474412319072 {'svc__C': 1.5, 'svc__gamma': 'auto'}\n",
    "\n",
    "power Test 4: best score: 0.8865474412319072 {'svc__C': 1.5, 'svc__gamma': 'auto'}\n",
    "\n",
    "power Test 5: best score: 0.8865474412319072 {'svc__C': 1.5, 'svc__gamma': 'auto'}"
   ]
  },
  {
   "cell_type": "markdown",
   "metadata": {},
   "source": [
    "1\n",
    "\n",
    "1\n",
    "* how to we noramlize by site or sex?"
   ]
  },
  {
   "cell_type": "code",
   "execution_count": null,
   "metadata": {},
   "outputs": [],
   "source": []
  }
 ],
 "metadata": {
  "kernelspec": {
   "display_name": "Python 3",
   "language": "python",
   "name": "python3"
  },
  "language_info": {
   "codemirror_mode": {
    "name": "ipython",
    "version": 3
   },
   "file_extension": ".py",
   "mimetype": "text/x-python",
   "name": "python",
   "nbconvert_exporter": "python",
   "pygments_lexer": "ipython3",
   "version": "3.7.4"
  }
 },
 "nbformat": 4,
 "nbformat_minor": 2
}

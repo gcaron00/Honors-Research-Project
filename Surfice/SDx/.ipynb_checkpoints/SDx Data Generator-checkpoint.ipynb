{
 "cells": [
  {
   "cell_type": "code",
   "execution_count": 1,
   "metadata": {},
   "outputs": [],
   "source": [
    "#import\n",
    "import numpy as np\n",
    "import pandas as pd\n",
    "import random"
   ]
  },
  {
   "cell_type": "code",
   "execution_count": 2,
   "metadata": {},
   "outputs": [],
   "source": [
    "#setting up data for fitting model\n",
    "df = pd.read_csv(\"Data1.csv\")\n",
    "temp = pd.concat([df.loc[0:, ['SDx']], df.loc[0:, 'L_LatVent': 'R_insula_surfavg']], axis=1, sort=False)\n",
    "temp = temp.dropna(how='any')\n",
    "df1 = temp.loc[0:, ['SDx']]\n",
    "df2 = temp.loc[0:, 'L_LatVent': 'R_insula_surfavg']\n",
    "y = np.array(df1).ravel()\n",
    "x = np.array(df2)"
   ]
  },
  {
   "cell_type": "markdown",
   "metadata": {},
   "source": [
    "## Using SVC w/ Linear Kernel"
   ]
  },
  {
   "cell_type": "code",
   "execution_count": 3,
   "metadata": {},
   "outputs": [],
   "source": [
    "# setting up pipeline and getting coef: note no cv\n",
    "from sklearn.preprocessing import MinMaxScaler\n",
    "from sklearn.svm import SVC\n",
    "from sklearn.pipeline import Pipeline\n",
    "\n",
    "minMax = MinMaxScaler() #creating minMax model\n",
    "svcLin = SVC(C=0.4, kernel='linear') #creating linear kernel svc\n",
    "\n",
    "\n",
    "svm = Pipeline([('minMax', minMax), ('svcLin', svcLin)]) #creating pipleing with lsvc and minMax\n",
    "svm.fit(x, y) # fitting pipeline\n",
    "\n",
    "\n",
    "coef_s = svcLin.coef_.ravel() # getting array of coef and takin gabsolute value: see why below"
   ]
  },
  {
   "cell_type": "markdown",
   "metadata": {},
   "source": [
    "I took the absolute value because the a very negative value still have a large impact on classification, just for the other result (i.e. linearSVC) but the Surf ice sees a more negative value as having less magnitue. When I did't this, the large nodes in the model swapped sides (symetrically) and the sub model now looks almost identical to yours. Also, with the absolute value, the cort thick and cort surf nodes where bigger and relatively uniform in size across the entire brain.\n",
    "\n",
    "I also used one max for all the coef so the nodes for each area of the brain would be proportional to the other\n"
   ]
  },
  {
   "cell_type": "markdown",
   "metadata": {},
   "source": [
    "## Creating Node Files"
   ]
  },
  {
   "cell_type": "code",
   "execution_count": 4,
   "metadata": {
    "scrolled": false
   },
   "outputs": [],
   "source": [
    "f_hnd_sub = open( \"SubCort_SDx_Nodes.node\", \"w\" ) # subcort file to write in to\n",
    "f_hnd_thick = open( \"CortThick_SDx_Nodes.node\", \"w\" ) # cortthick file to write into\n",
    "f_hnd_surf = open( \"CortSurf_SDx_Nodes.node\", \"w\" ) # cortsurface file to write into\n",
    "f_hnd_all = open( \"AllSurf_SDx_Nodes.node\", \"w\" ) # allsurfarea file to write into\n",
    "\n",
    "atlas = pd.read_csv('atlas.csv') # reading in atlas which has all the structure coordinates in brain but not in same order as Data1\n",
    "rois = pd.read_csv('rois.csv') # reading in rois which has structure&measurement name and number (atlas_index) for finding coordinates in atlas\n",
    "\n",
    "maX = np.amax(coef_s) # max coef for all structures\n",
    "\n",
    "for i in range(0, 152): #range to [0, 152] because 153 rows in rois \n",
    "        name = rois.iat[i, 0] # name of structure \n",
    "        atlas_index = rois.iat[i, 1] # number for structure\n",
    "        for j in range(0, 88):\n",
    "            if (atlas.iat[j, 3] == atlas_index): # finds row in altas\n",
    "                x = atlas.iat[j, 0] # gets x coord for structure from atlas\n",
    "                y = atlas.iat[j, 1] # gets y coord for structure from atlas\n",
    "                z = atlas.iat[j, 2] # gets z coord for structure from atlas\n",
    "        \n",
    "        if (i < 16): # writes in coordinates, coef of structure/max (normalized) and structure&measurement name if subcort (first 16) \n",
    "            coef = coef_s[i] / maX\n",
    "            f_hnd_sub.write( \"{0:.2f},\\t{1:.2f},\\t{2:.2f},\\t2,\\t{3:.2f},\\t{4:s}\\n\".format( x, y, z, coef, name ) )\n",
    "            f_hnd_all.write( \"{0:.2f},\\t{1:.2f},\\t{2:.2f},\\t2,\\t{3:.2f},\\t{4:s}\\n\".format( x, y, z, coef, name ) ) #writes into allsurf file\n",
    "        elif (i < 84): # writes in coordinates, coef of structure/max (normalized) and structure&measurement name if cortthick (first 16) \n",
    "            coef = coef_s[i] / maX\n",
    "            f_hnd_thick.write( \"{0:.2f},\\t{1:.2f},\\t{2:.2f},\\t2,\\t{3:.2f},\\t{4:s}\\n\".format( x, y, z, coef, name ) )\n",
    "        else: # writes in coordinates, coef of structure/max (normalized) and structure&measurement name if cortsurf (first 16) \n",
    "            coef = coef_s[i] / maX\n",
    "            f_hnd_surf.write( \"{0:.2f},\\t{1:.2f},\\t{2:.2f},\\t2,\\t{3:.2f},\\t{4:s}\\n\".format( x, y, z, coef, name ) )\n",
    "            f_hnd_all.write( \"{0:.2f},\\t{1:.2f},\\t{2:.2f},\\t2,\\t{3:.2f},\\t{4:s}\\n\".format( x, y, z, coef, name ) ) #writes into allsurf file\n",
    "f_hnd_sub.close() # closes file (saves)\n",
    "f_hnd_thick.close() # closes file (saves)\n",
    "f_hnd_surf.close() # closes file (saves)\n",
    "f_hnd_all.close() # closes file (saves)"
   ]
  },
  {
   "cell_type": "markdown",
   "metadata": {},
   "source": [
    "* Determined sub cort surface area has by far most effect on model/condition\n",
    "* Determined cort surface area has more impact than cort thickness on model/condition\n",
    "\n",
    "Thus: sub surface area > cort surface area, cort thickness\n",
    "\n",
    "Thus: surfarea > thickness"
   ]
  },
  {
   "cell_type": "code",
   "execution_count": null,
   "metadata": {},
   "outputs": [],
   "source": []
  }
 ],
 "metadata": {
  "kernelspec": {
   "display_name": "Python 3",
   "language": "python",
   "name": "python3"
  },
  "language_info": {
   "codemirror_mode": {
    "name": "ipython",
    "version": 3
   },
   "file_extension": ".py",
   "mimetype": "text/x-python",
   "name": "python",
   "nbconvert_exporter": "python",
   "pygments_lexer": "ipython3",
   "version": "3.7.4"
  }
 },
 "nbformat": 4,
 "nbformat_minor": 2
}

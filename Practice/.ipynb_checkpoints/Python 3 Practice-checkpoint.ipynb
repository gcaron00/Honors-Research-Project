{
 "cells": [
  {
   "cell_type": "markdown",
   "metadata": {},
   "source": [
    "## Hello World"
   ]
  },
  {
   "cell_type": "code",
   "execution_count": 1,
   "metadata": {},
   "outputs": [
    {
     "name": "stdout",
     "output_type": "stream",
     "text": [
      "hello world\n"
     ]
    }
   ],
   "source": [
    "print(\"hello world\")"
   ]
  },
  {
   "cell_type": "markdown",
   "metadata": {},
   "source": [
    "## Print Function and Strings"
   ]
  },
  {
   "cell_type": "markdown",
   "metadata": {},
   "source": [
    "Notes:\n",
    "* comments using ##\n",
    "* Single quotes or double quotes can be used for strings\n",
    "* \\ escapes functionality of characters so its seen as sting\n",
    "* + to concatinate strings\n",
    "* , can be used to concatinate string to integer\n",
    "* Booleans are True and False, not true and false"
   ]
  },
  {
   "cell_type": "code",
   "execution_count": 2,
   "metadata": {},
   "outputs": [
    {
     "name": "stdout",
     "output_type": "stream",
     "text": [
      "This and example of a print function\n",
      "This and example of a print function\n",
      "True\n"
     ]
    }
   ],
   "source": [
    "print(\"This and example of a print function\")\n",
    "print('This and example of a print function')\n",
    "print(1 < 6) ## Bloolean expression"
   ]
  },
  {
   "cell_type": "code",
   "execution_count": 3,
   "metadata": {},
   "outputs": [
    {
     "name": "stdout",
     "output_type": "stream",
     "text": [
      "Hi 5\n"
     ]
    }
   ],
   "source": [
    "print('Hi', 5)"
   ]
  },
  {
   "cell_type": "markdown",
   "metadata": {},
   "source": [
    "## Math "
   ]
  },
  {
   "cell_type": "markdown",
   "metadata": {},
   "source": [
    "** for exponents"
   ]
  },
  {
   "cell_type": "markdown",
   "metadata": {},
   "source": [
    "## Variables"
   ]
  },
  {
   "cell_type": "markdown",
   "metadata": {},
   "source": [
    "* just type variable to declare it\n",
    "* no numbers to start\n",
    "* see unpacking in line 19"
   ]
  },
  {
   "cell_type": "code",
   "execution_count": 4,
   "metadata": {},
   "outputs": [
    {
     "name": "stdout",
     "output_type": "stream",
     "text": [
      "55\n"
     ]
    }
   ],
   "source": [
    "exampleVar = 55\n",
    "print(exampleVar)"
   ]
  },
  {
   "cell_type": "code",
   "execution_count": 5,
   "metadata": {},
   "outputs": [
    {
     "name": "stdout",
     "output_type": "stream",
     "text": [
      "3\n",
      "5\n"
     ]
    }
   ],
   "source": [
    "x,y = (3,5)\n",
    "print(x)\n",
    "print(y)"
   ]
  },
  {
   "cell_type": "markdown",
   "metadata": {},
   "source": [
    "## Loops"
   ]
  },
  {
   "cell_type": "markdown",
   "metadata": {},
   "source": []
  },
  {
   "cell_type": "code",
   "execution_count": 6,
   "metadata": {},
   "outputs": [
    {
     "name": "stdout",
     "output_type": "stream",
     "text": [
      "1\n",
      "2\n",
      "3\n",
      "4\n",
      "5\n",
      "6\n",
      "7\n",
      "8\n",
      "9\n"
     ]
    }
   ],
   "source": [
    "## while loop\n",
    "i = 1\n",
    "while i < 10:\n",
    "    print(i)\n",
    "    i += 1"
   ]
  },
  {
   "cell_type": "code",
   "execution_count": 7,
   "metadata": {},
   "outputs": [
    {
     "name": "stdout",
     "output_type": "stream",
     "text": [
      "1\n",
      "2\n",
      "3\n",
      "4\n",
      "5\n",
      "6\n",
      "7\n",
      "8\n",
      "9\n",
      "10\n",
      "continue\n"
     ]
    }
   ],
   "source": [
    "## for loop\n",
    "exampleList = [1,2,3,4,5,6,7,8,9,10]\n",
    "for eachNumber in exampleList:\n",
    "    print(eachNumber)\n",
    "print('continue')\n",
    "## works for tuple as well"
   ]
  },
  {
   "cell_type": "code",
   "execution_count": 8,
   "metadata": {},
   "outputs": [
    {
     "name": "stdout",
     "output_type": "stream",
     "text": [
      "1\n",
      "2\n",
      "3\n",
      "4\n"
     ]
    }
   ],
   "source": [
    "## range function built in\n",
    "for x in range(1, 5):\n",
    "    print (x)"
   ]
  },
  {
   "cell_type": "markdown",
   "metadata": {},
   "source": [
    "## If/else and if statements"
   ]
  },
  {
   "cell_type": "code",
   "execution_count": 9,
   "metadata": {},
   "outputs": [
    {
     "name": "stdout",
     "output_type": "stream",
     "text": [
      "true\n",
      "it is\n"
     ]
    }
   ],
   "source": [
    "x = 5\n",
    "y = 3\n",
    "\n",
    "if x > y:\n",
    "    print('true')\n",
    "if x > 4:\n",
    "    print('it is')"
   ]
  },
  {
   "cell_type": "code",
   "execution_count": 10,
   "metadata": {},
   "outputs": [
    {
     "name": "stdout",
     "output_type": "stream",
     "text": [
      "false\n"
     ]
    }
   ],
   "source": [
    "x = 5\n",
    "y = 3\n",
    "\n",
    "if y == x:\n",
    "    print('true')\n",
    "else:\n",
    "    print('false')"
   ]
  },
  {
   "cell_type": "markdown",
   "metadata": {},
   "source": [
    "## Elif statements"
   ]
  },
  {
   "cell_type": "code",
   "execution_count": 11,
   "metadata": {},
   "outputs": [
    {
     "name": "stdout",
     "output_type": "stream",
     "text": [
      "true\n"
     ]
    }
   ],
   "source": [
    "## elif only runs whem if does. Its a restriced else\n",
    "x = 5\n",
    "y = 5\n",
    "z = 7\n",
    "\n",
    "if y == x:\n",
    "    print('true')\n",
    "elif y < 7:\n",
    "    print('false')"
   ]
  },
  {
   "cell_type": "markdown",
   "metadata": {},
   "source": [
    "## Functions"
   ]
  },
  {
   "cell_type": "code",
   "execution_count": 12,
   "metadata": {},
   "outputs": [
    {
     "name": "stdout",
     "output_type": "stream",
     "text": [
      "basic variable\n"
     ]
    },
    {
     "data": {
      "text/plain": [
       "12"
      ]
     },
     "execution_count": 12,
     "metadata": {},
     "output_type": "execute_result"
    }
   ],
   "source": [
    "## name lowercase\n",
    "def functionName():\n",
    "    print(\"basic variable\")\n",
    "    z = 3 + 9\n",
    "    return z\n",
    "functionName()"
   ]
  },
  {
   "cell_type": "code",
   "execution_count": 13,
   "metadata": {},
   "outputs": [
    {
     "name": "stdout",
     "output_type": "stream",
     "text": [
      "a is 3\n",
      "9\n"
     ]
    },
    {
     "data": {
      "text/plain": [
       "9"
      ]
     },
     "execution_count": 13,
     "metadata": {},
     "output_type": "execute_result"
    }
   ],
   "source": [
    "## with parameters\n",
    "def function2(a, b):\n",
    "    answer = a + b\n",
    "    print('a is', a)\n",
    "    print(answer)\n",
    "    return answer\n",
    "function2(3, 6)"
   ]
  },
  {
   "cell_type": "code",
   "execution_count": 14,
   "metadata": {},
   "outputs": [
    {
     "name": "stdout",
     "output_type": "stream",
     "text": [
      "b is  5\n"
     ]
    },
    {
     "data": {
      "text/plain": [
       "(6, 'wassup')"
      ]
     },
     "execution_count": 14,
     "metadata": {},
     "output_type": "execute_result"
    }
   ],
   "source": [
    "## default parameter\n",
    "## can return multiple things in a tuple\n",
    "def function3(a, b = 5, c = 'wassup'):\n",
    "    print ('b is ', b)\n",
    "    return a, c\n",
    "function3(6)"
   ]
  },
  {
   "cell_type": "markdown",
   "metadata": {},
   "source": [
    "## Local & Global Variables"
   ]
  },
  {
   "cell_type": "code",
   "execution_count": 15,
   "metadata": {},
   "outputs": [
    {
     "name": "stdout",
     "output_type": "stream",
     "text": [
      "5\n",
      "5\n"
     ]
    }
   ],
   "source": [
    "x = 5\n",
    "def example():\n",
    "    print(x)\n",
    "    ## x += 5 cant do because x is not variables\n",
    "    print(x)\n",
    "example()"
   ]
  },
  {
   "cell_type": "code",
   "execution_count": 16,
   "metadata": {},
   "outputs": [
    {
     "name": "stdout",
     "output_type": "stream",
     "text": [
      "5\n",
      "10\n"
     ]
    }
   ],
   "source": [
    "x = 5\n",
    "def example():\n",
    "    global x ## declare before use in function\n",
    "    print(x)\n",
    "    x += 5\n",
    "    print(x)\n",
    "example()"
   ]
  },
  {
   "cell_type": "code",
   "execution_count": 17,
   "metadata": {},
   "outputs": [
    {
     "name": "stdout",
     "output_type": "stream",
     "text": [
      "10\n",
      "15\n"
     ]
    }
   ],
   "source": [
    "def example():\n",
    "    globx = x ## globx is local\n",
    "    print(globx)\n",
    "    globx+=5\n",
    "    print(globx)\n",
    "x = example()"
   ]
  },
  {
   "cell_type": "markdown",
   "metadata": {},
   "source": [
    "## Dictionaries"
   ]
  },
  {
   "cell_type": "code",
   "execution_count": 18,
   "metadata": {},
   "outputs": [
    {
     "name": "stdout",
     "output_type": "stream",
     "text": [
      "{'Jack': 30, 'Bob': 22, 'Alice': 12, 'Kevin': 17}\n",
      "30\n",
      "{'Jack': 30, 'Bob': 22, 'Alice': 12, 'Kevin': 17, 'Tim': 14}\n",
      "15\n",
      "{'Jack': 30, 'Bob': 22, 'Alice': 12, 'Kevin': 17}\n"
     ]
    }
   ],
   "source": [
    "## use curly brace\n",
    "## i.e. Jack is the key\n",
    "## value and size muttable\n",
    "exDict = {'Jack':30, 'Bob':22, 'Alice': 12, 'Kevin': 17}\n",
    "print(exDict)\n",
    "print(exDict['Jack'])\n",
    "exDict['Tim'] = 14  ## add \n",
    "print(exDict)\n",
    "exDict['Tim']=15   ## change value\n",
    "print(exDict['Tim'])\n",
    "del exDict['Tim']   ## del to delete\n",
    "print (exDict)"
   ]
  },
  {
   "cell_type": "code",
   "execution_count": 19,
   "metadata": {},
   "outputs": [
    {
     "name": "stdout",
     "output_type": "stream",
     "text": [
      "{'Jack': [30, 'blonde'], 'Bob': 22, 'Alice': 12, 'Kevin': 17}\n",
      "30\n",
      "blonde\n"
     ]
    }
   ],
   "source": [
    "exDict2 = {'Jack':[30, 'blonde'], 'Bob':22, 'Alice': 12, 'Kevin': 17}\n",
    "print(exDict2)\n",
    "print(exDict2['Jack'][0])\n",
    "print(exDict2['Jack'][1])"
   ]
  },
  {
   "cell_type": "markdown",
   "metadata": {},
   "source": [
    "## Lists and Tuples"
   ]
  },
  {
   "cell_type": "code",
   "execution_count": 20,
   "metadata": {},
   "outputs": [
    {
     "name": "stdout",
     "output_type": "stream",
     "text": [
      "15 True r\n",
      "r\n"
     ]
    }
   ],
   "source": [
    "## tuple is a set of objects in parentheses of none\n",
    "## can be multiple types\n",
    "## not mutable\n",
    "def function4():\n",
    "    return 15, True, 'r'\n",
    "x, y, z = function4()\n",
    "print(x, y, z)\n",
    "a = 15, True, 'r'\n",
    "                ##a[2] = 0 can't do for tuple\n",
    "print(a[2])"
   ]
  },
  {
   "cell_type": "code",
   "execution_count": 21,
   "metadata": {},
   "outputs": [
    {
     "name": "stdout",
     "output_type": "stream",
     "text": [
      "15 True r\n",
      "0\n"
     ]
    }
   ],
   "source": [
    "## list works the same but is in brackets\n",
    "## can be multiple types\n",
    "## is mutable\n",
    "def function4():\n",
    "    return [15, True, 'r']\n",
    "x, y, z = function4()\n",
    "print(x, y, z)\n",
    "a = [15, True, 'r']\n",
    "a[2] = 0\n",
    "print(a[2])"
   ]
  },
  {
   "cell_type": "code",
   "execution_count": 22,
   "metadata": {},
   "outputs": [
    {
     "name": "stdout",
     "output_type": "stream",
     "text": [
      "[5, 6, 2, 4, 888]\n",
      "[5, 6, 99, 2, 4, 888]\n",
      "[5, 6, 99, 2, 4]\n",
      "[5, 6, 2, 4]\n",
      "[2, 4]\n",
      "2\n",
      "1\n",
      "0\n",
      "[2, 4, 5, 6]\n"
     ]
    }
   ],
   "source": [
    "## list manipulation\n",
    "## lots of built in functions\n",
    "x = [5,6,2,4]\n",
    "x.append(888)\n",
    "print(x)\n",
    "x.insert(2, 99)  ## (index, added value)\n",
    "print(x)\n",
    "x.remove(x[5])\n",
    "print(x)\n",
    "x.remove(99)\n",
    "print(x)\n",
    "print(x[2:4])    ## slice does not include index 4 (up to 4)\n",
    "print(x[-2])     ## second to last element\n",
    "print(x.index(6))      ## gets index of 6\n",
    "print(x.count(3))       ## gets number of 3\n",
    "x.sort()         ## sorts numerically or alphabetical\n",
    "print(x)"
   ]
  },
  {
   "cell_type": "markdown",
   "metadata": {},
   "source": [
    "## Multidimentional Lists"
   ]
  },
  {
   "cell_type": "code",
   "execution_count": 23,
   "metadata": {},
   "outputs": [
    {
     "name": "stdout",
     "output_type": "stream",
     "text": [
      "[[[5, 6], [6, 7]], [[7, 2], [2, 5]]]\n",
      "[[7, 2], [2, 5]]\n",
      "[2, 5]\n",
      "5\n"
     ]
    }
   ],
   "source": [
    "x = [[[5, 6], [6, 7]], [[7, 2], [2, 5]]]\n",
    "print(x)\n",
    "print(x[1])\n",
    "print(x[1][1])   # access element of list withinlist\n",
    "print(x[1][1][1])"
   ]
  },
  {
   "cell_type": "code",
   "execution_count": 24,
   "metadata": {},
   "outputs": [
    {
     "name": "stdout",
     "output_type": "stream",
     "text": [
      "5\n",
      "6\n",
      "6\n",
      "7\n",
      "7\n",
      "2\n",
      "2\n",
      "5\n"
     ]
    }
   ],
   "source": [
    "## for loop that print all elements of all elements \n",
    "for element1 in x:\n",
    "    for element2 in element1:\n",
    "        for element3 in element2:\n",
    "            print(element3)"
   ]
  },
  {
   "cell_type": "code",
   "execution_count": null,
   "metadata": {},
   "outputs": [],
   "source": []
  }
 ],
 "metadata": {
  "kernelspec": {
   "display_name": "Python 3",
   "language": "python",
   "name": "python3"
  },
  "language_info": {
   "codemirror_mode": {
    "name": "ipython",
    "version": 3
   },
   "file_extension": ".py",
   "mimetype": "text/x-python",
   "name": "python",
   "nbconvert_exporter": "python",
   "pygments_lexer": "ipython3",
   "version": "3.7.4"
  }
 },
 "nbformat": 4,
 "nbformat_minor": 2
}

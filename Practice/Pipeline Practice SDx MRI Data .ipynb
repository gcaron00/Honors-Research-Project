{
 "cells": [
  {
   "cell_type": "code",
   "execution_count": 1,
   "metadata": {},
   "outputs": [],
   "source": [
    "import numpy as np\n",
    "import pandas as pd\n",
    "import random"
   ]
  },
  {
   "cell_type": "markdown",
   "metadata": {},
   "source": [
    "# Getting data "
   ]
  },
  {
   "cell_type": "markdown",
   "metadata": {},
   "source": [
    "## For cross validation"
   ]
  },
  {
   "cell_type": "code",
   "execution_count": 2,
   "metadata": {},
   "outputs": [
    {
     "data": {
      "text/html": [
       "<div>\n",
       "<style scoped>\n",
       "    .dataframe tbody tr th:only-of-type {\n",
       "        vertical-align: middle;\n",
       "    }\n",
       "\n",
       "    .dataframe tbody tr th {\n",
       "        vertical-align: top;\n",
       "    }\n",
       "\n",
       "    .dataframe thead th {\n",
       "        text-align: right;\n",
       "    }\n",
       "</style>\n",
       "<table border=\"1\" class=\"dataframe\">\n",
       "  <thead>\n",
       "    <tr style=\"text-align: right;\">\n",
       "      <th></th>\n",
       "      <th>SDx</th>\n",
       "      <th>L_LatVent</th>\n",
       "      <th>R_LatVent</th>\n",
       "      <th>L_thal</th>\n",
       "      <th>R_thal</th>\n",
       "      <th>L_caud</th>\n",
       "      <th>R_caud</th>\n",
       "      <th>L_put</th>\n",
       "      <th>R_put</th>\n",
       "      <th>L_pal</th>\n",
       "      <th>...</th>\n",
       "      <th>R_rostralanteriorcingulate_surfavg</th>\n",
       "      <th>R_rostralmiddlefrontal_surfavg</th>\n",
       "      <th>R_superiorfrontal_surfavg</th>\n",
       "      <th>R_superiorparietal_surfavg</th>\n",
       "      <th>R_superiortemporal_surfavg</th>\n",
       "      <th>R_supramarginal_surfavg</th>\n",
       "      <th>R_frontalpole_surfavg</th>\n",
       "      <th>R_temporalpole_surfavg</th>\n",
       "      <th>R_transversetemporal_surfavg</th>\n",
       "      <th>R_insula_surfavg</th>\n",
       "    </tr>\n",
       "  </thead>\n",
       "  <tbody>\n",
       "    <tr>\n",
       "      <td>0</td>\n",
       "      <td>0</td>\n",
       "      <td>3655.0</td>\n",
       "      <td>4525.0</td>\n",
       "      <td>7829.0</td>\n",
       "      <td>7568.0</td>\n",
       "      <td>3301.0</td>\n",
       "      <td>3694.0</td>\n",
       "      <td>4942.0</td>\n",
       "      <td>5403.0</td>\n",
       "      <td>1627.0</td>\n",
       "      <td>...</td>\n",
       "      <td>714.0</td>\n",
       "      <td>5887.0</td>\n",
       "      <td>7100.0</td>\n",
       "      <td>5952.0</td>\n",
       "      <td>3312.0</td>\n",
       "      <td>3372.0</td>\n",
       "      <td>236.0</td>\n",
       "      <td>383.0</td>\n",
       "      <td>327.0</td>\n",
       "      <td>2090.0</td>\n",
       "    </tr>\n",
       "    <tr>\n",
       "      <td>1</td>\n",
       "      <td>0</td>\n",
       "      <td>4885.0</td>\n",
       "      <td>3312.0</td>\n",
       "      <td>7567.0</td>\n",
       "      <td>7578.0</td>\n",
       "      <td>3467.0</td>\n",
       "      <td>3494.0</td>\n",
       "      <td>5282.0</td>\n",
       "      <td>5255.0</td>\n",
       "      <td>1769.0</td>\n",
       "      <td>...</td>\n",
       "      <td>708.0</td>\n",
       "      <td>4955.0</td>\n",
       "      <td>6524.0</td>\n",
       "      <td>4878.0</td>\n",
       "      <td>3875.0</td>\n",
       "      <td>3943.0</td>\n",
       "      <td>268.0</td>\n",
       "      <td>409.0</td>\n",
       "      <td>272.0</td>\n",
       "      <td>2215.0</td>\n",
       "    </tr>\n",
       "    <tr>\n",
       "      <td>2</td>\n",
       "      <td>0</td>\n",
       "      <td>6065.0</td>\n",
       "      <td>6765.0</td>\n",
       "      <td>7823.0</td>\n",
       "      <td>8228.0</td>\n",
       "      <td>4218.0</td>\n",
       "      <td>4092.0</td>\n",
       "      <td>5473.0</td>\n",
       "      <td>5562.0</td>\n",
       "      <td>1876.0</td>\n",
       "      <td>...</td>\n",
       "      <td>882.0</td>\n",
       "      <td>5703.0</td>\n",
       "      <td>7052.0</td>\n",
       "      <td>5066.0</td>\n",
       "      <td>3386.0</td>\n",
       "      <td>4190.0</td>\n",
       "      <td>189.0</td>\n",
       "      <td>606.0</td>\n",
       "      <td>266.0</td>\n",
       "      <td>2466.0</td>\n",
       "    </tr>\n",
       "    <tr>\n",
       "      <td>3</td>\n",
       "      <td>0</td>\n",
       "      <td>6941.0</td>\n",
       "      <td>7537.0</td>\n",
       "      <td>8022.0</td>\n",
       "      <td>8030.0</td>\n",
       "      <td>3892.0</td>\n",
       "      <td>3789.0</td>\n",
       "      <td>5220.0</td>\n",
       "      <td>5510.0</td>\n",
       "      <td>1663.0</td>\n",
       "      <td>...</td>\n",
       "      <td>647.0</td>\n",
       "      <td>5782.0</td>\n",
       "      <td>7226.0</td>\n",
       "      <td>4691.0</td>\n",
       "      <td>3478.0</td>\n",
       "      <td>3986.0</td>\n",
       "      <td>240.0</td>\n",
       "      <td>468.0</td>\n",
       "      <td>398.0</td>\n",
       "      <td>2371.0</td>\n",
       "    </tr>\n",
       "    <tr>\n",
       "      <td>4</td>\n",
       "      <td>0</td>\n",
       "      <td>7553.0</td>\n",
       "      <td>9478.0</td>\n",
       "      <td>8443.0</td>\n",
       "      <td>7831.0</td>\n",
       "      <td>4291.0</td>\n",
       "      <td>4400.0</td>\n",
       "      <td>6516.0</td>\n",
       "      <td>6326.0</td>\n",
       "      <td>1915.0</td>\n",
       "      <td>...</td>\n",
       "      <td>802.0</td>\n",
       "      <td>5965.0</td>\n",
       "      <td>8310.0</td>\n",
       "      <td>5416.0</td>\n",
       "      <td>4498.0</td>\n",
       "      <td>4455.0</td>\n",
       "      <td>284.0</td>\n",
       "      <td>479.0</td>\n",
       "      <td>392.0</td>\n",
       "      <td>2696.0</td>\n",
       "    </tr>\n",
       "    <tr>\n",
       "      <td>...</td>\n",
       "      <td>...</td>\n",
       "      <td>...</td>\n",
       "      <td>...</td>\n",
       "      <td>...</td>\n",
       "      <td>...</td>\n",
       "      <td>...</td>\n",
       "      <td>...</td>\n",
       "      <td>...</td>\n",
       "      <td>...</td>\n",
       "      <td>...</td>\n",
       "      <td>...</td>\n",
       "      <td>...</td>\n",
       "      <td>...</td>\n",
       "      <td>...</td>\n",
       "      <td>...</td>\n",
       "      <td>...</td>\n",
       "      <td>...</td>\n",
       "      <td>...</td>\n",
       "      <td>...</td>\n",
       "      <td>...</td>\n",
       "      <td>...</td>\n",
       "    </tr>\n",
       "    <tr>\n",
       "      <td>1906</td>\n",
       "      <td>3</td>\n",
       "      <td>8780.8</td>\n",
       "      <td>14023.7</td>\n",
       "      <td>6737.6</td>\n",
       "      <td>7091.1</td>\n",
       "      <td>3236.3</td>\n",
       "      <td>3047.6</td>\n",
       "      <td>5027.8</td>\n",
       "      <td>5760.0</td>\n",
       "      <td>1236.2</td>\n",
       "      <td>...</td>\n",
       "      <td>1053.0</td>\n",
       "      <td>6365.0</td>\n",
       "      <td>7041.0</td>\n",
       "      <td>5813.0</td>\n",
       "      <td>3648.0</td>\n",
       "      <td>3681.0</td>\n",
       "      <td>247.0</td>\n",
       "      <td>585.0</td>\n",
       "      <td>532.0</td>\n",
       "      <td>2937.0</td>\n",
       "    </tr>\n",
       "    <tr>\n",
       "      <td>1907</td>\n",
       "      <td>3</td>\n",
       "      <td>3161.4</td>\n",
       "      <td>2368.4</td>\n",
       "      <td>5762.7</td>\n",
       "      <td>8192.6</td>\n",
       "      <td>2595.9</td>\n",
       "      <td>3472.5</td>\n",
       "      <td>5162.9</td>\n",
       "      <td>5551.1</td>\n",
       "      <td>1523.6</td>\n",
       "      <td>...</td>\n",
       "      <td>726.0</td>\n",
       "      <td>5236.0</td>\n",
       "      <td>6705.0</td>\n",
       "      <td>5839.0</td>\n",
       "      <td>3528.0</td>\n",
       "      <td>3674.0</td>\n",
       "      <td>225.0</td>\n",
       "      <td>413.0</td>\n",
       "      <td>415.0</td>\n",
       "      <td>2336.0</td>\n",
       "    </tr>\n",
       "    <tr>\n",
       "      <td>1908</td>\n",
       "      <td>3</td>\n",
       "      <td>3519.5</td>\n",
       "      <td>4556.5</td>\n",
       "      <td>6929.9</td>\n",
       "      <td>8318.8</td>\n",
       "      <td>4362.4</td>\n",
       "      <td>4277.4</td>\n",
       "      <td>6637.9</td>\n",
       "      <td>6432.2</td>\n",
       "      <td>1740.8</td>\n",
       "      <td>...</td>\n",
       "      <td>661.0</td>\n",
       "      <td>5959.0</td>\n",
       "      <td>7597.0</td>\n",
       "      <td>5603.0</td>\n",
       "      <td>3539.0</td>\n",
       "      <td>3981.0</td>\n",
       "      <td>184.0</td>\n",
       "      <td>547.0</td>\n",
       "      <td>496.0</td>\n",
       "      <td>2397.0</td>\n",
       "    </tr>\n",
       "    <tr>\n",
       "      <td>1909</td>\n",
       "      <td>3</td>\n",
       "      <td>4635.8</td>\n",
       "      <td>6822.7</td>\n",
       "      <td>6094.0</td>\n",
       "      <td>5009.4</td>\n",
       "      <td>3833.5</td>\n",
       "      <td>3413.3</td>\n",
       "      <td>5915.8</td>\n",
       "      <td>5266.7</td>\n",
       "      <td>1231.4</td>\n",
       "      <td>...</td>\n",
       "      <td>676.0</td>\n",
       "      <td>4632.0</td>\n",
       "      <td>5960.0</td>\n",
       "      <td>4005.0</td>\n",
       "      <td>2792.0</td>\n",
       "      <td>2998.0</td>\n",
       "      <td>201.0</td>\n",
       "      <td>394.0</td>\n",
       "      <td>361.0</td>\n",
       "      <td>1915.0</td>\n",
       "    </tr>\n",
       "    <tr>\n",
       "      <td>1910</td>\n",
       "      <td>3</td>\n",
       "      <td>4363.2</td>\n",
       "      <td>3547.3</td>\n",
       "      <td>6977.2</td>\n",
       "      <td>9058.3</td>\n",
       "      <td>4986.1</td>\n",
       "      <td>4951.9</td>\n",
       "      <td>6135.3</td>\n",
       "      <td>5867.4</td>\n",
       "      <td>1556.2</td>\n",
       "      <td>...</td>\n",
       "      <td>796.0</td>\n",
       "      <td>6488.0</td>\n",
       "      <td>7769.0</td>\n",
       "      <td>5821.0</td>\n",
       "      <td>4121.0</td>\n",
       "      <td>4709.0</td>\n",
       "      <td>214.0</td>\n",
       "      <td>455.0</td>\n",
       "      <td>517.0</td>\n",
       "      <td>2425.0</td>\n",
       "    </tr>\n",
       "  </tbody>\n",
       "</table>\n",
       "<p>1045 rows × 153 columns</p>\n",
       "</div>"
      ],
      "text/plain": [
       "      SDx  L_LatVent  R_LatVent  L_thal  R_thal  L_caud  R_caud   L_put  \\\n",
       "0       0     3655.0     4525.0  7829.0  7568.0  3301.0  3694.0  4942.0   \n",
       "1       0     4885.0     3312.0  7567.0  7578.0  3467.0  3494.0  5282.0   \n",
       "2       0     6065.0     6765.0  7823.0  8228.0  4218.0  4092.0  5473.0   \n",
       "3       0     6941.0     7537.0  8022.0  8030.0  3892.0  3789.0  5220.0   \n",
       "4       0     7553.0     9478.0  8443.0  7831.0  4291.0  4400.0  6516.0   \n",
       "...   ...        ...        ...     ...     ...     ...     ...     ...   \n",
       "1906    3     8780.8    14023.7  6737.6  7091.1  3236.3  3047.6  5027.8   \n",
       "1907    3     3161.4     2368.4  5762.7  8192.6  2595.9  3472.5  5162.9   \n",
       "1908    3     3519.5     4556.5  6929.9  8318.8  4362.4  4277.4  6637.9   \n",
       "1909    3     4635.8     6822.7  6094.0  5009.4  3833.5  3413.3  5915.8   \n",
       "1910    3     4363.2     3547.3  6977.2  9058.3  4986.1  4951.9  6135.3   \n",
       "\n",
       "       R_put   L_pal  ...  R_rostralanteriorcingulate_surfavg  \\\n",
       "0     5403.0  1627.0  ...                               714.0   \n",
       "1     5255.0  1769.0  ...                               708.0   \n",
       "2     5562.0  1876.0  ...                               882.0   \n",
       "3     5510.0  1663.0  ...                               647.0   \n",
       "4     6326.0  1915.0  ...                               802.0   \n",
       "...      ...     ...  ...                                 ...   \n",
       "1906  5760.0  1236.2  ...                              1053.0   \n",
       "1907  5551.1  1523.6  ...                               726.0   \n",
       "1908  6432.2  1740.8  ...                               661.0   \n",
       "1909  5266.7  1231.4  ...                               676.0   \n",
       "1910  5867.4  1556.2  ...                               796.0   \n",
       "\n",
       "      R_rostralmiddlefrontal_surfavg  R_superiorfrontal_surfavg  \\\n",
       "0                             5887.0                     7100.0   \n",
       "1                             4955.0                     6524.0   \n",
       "2                             5703.0                     7052.0   \n",
       "3                             5782.0                     7226.0   \n",
       "4                             5965.0                     8310.0   \n",
       "...                              ...                        ...   \n",
       "1906                          6365.0                     7041.0   \n",
       "1907                          5236.0                     6705.0   \n",
       "1908                          5959.0                     7597.0   \n",
       "1909                          4632.0                     5960.0   \n",
       "1910                          6488.0                     7769.0   \n",
       "\n",
       "      R_superiorparietal_surfavg  R_superiortemporal_surfavg  \\\n",
       "0                         5952.0                      3312.0   \n",
       "1                         4878.0                      3875.0   \n",
       "2                         5066.0                      3386.0   \n",
       "3                         4691.0                      3478.0   \n",
       "4                         5416.0                      4498.0   \n",
       "...                          ...                         ...   \n",
       "1906                      5813.0                      3648.0   \n",
       "1907                      5839.0                      3528.0   \n",
       "1908                      5603.0                      3539.0   \n",
       "1909                      4005.0                      2792.0   \n",
       "1910                      5821.0                      4121.0   \n",
       "\n",
       "      R_supramarginal_surfavg  R_frontalpole_surfavg  R_temporalpole_surfavg  \\\n",
       "0                      3372.0                  236.0                   383.0   \n",
       "1                      3943.0                  268.0                   409.0   \n",
       "2                      4190.0                  189.0                   606.0   \n",
       "3                      3986.0                  240.0                   468.0   \n",
       "4                      4455.0                  284.0                   479.0   \n",
       "...                       ...                    ...                     ...   \n",
       "1906                   3681.0                  247.0                   585.0   \n",
       "1907                   3674.0                  225.0                   413.0   \n",
       "1908                   3981.0                  184.0                   547.0   \n",
       "1909                   2998.0                  201.0                   394.0   \n",
       "1910                   4709.0                  214.0                   455.0   \n",
       "\n",
       "      R_transversetemporal_surfavg  R_insula_surfavg  \n",
       "0                            327.0            2090.0  \n",
       "1                            272.0            2215.0  \n",
       "2                            266.0            2466.0  \n",
       "3                            398.0            2371.0  \n",
       "4                            392.0            2696.0  \n",
       "...                            ...               ...  \n",
       "1906                         532.0            2937.0  \n",
       "1907                         415.0            2336.0  \n",
       "1908                         496.0            2397.0  \n",
       "1909                         361.0            1915.0  \n",
       "1910                         517.0            2425.0  \n",
       "\n",
       "[1045 rows x 153 columns]"
      ]
     },
     "execution_count": 2,
     "metadata": {},
     "output_type": "execute_result"
    }
   ],
   "source": [
    "df = pd.read_csv(r'C:\\Users\\caron\\OneDrive - University of North Carolina at Chapel Hill\\Honors Project\\CSV Files\\MRI Data.csv')\n",
    "temp = pd.concat([df.loc[0:, ['SDx']], df.loc[0:, 'L_LatVent': 'R_insula_surfavg']], axis=1, sort=False)\n",
    "temp = temp.dropna(how='any')\n",
    "df1 = temp.loc[0:, ['SDx']]\n",
    "df2 = temp.loc[0:, 'L_LatVent': 'R_insula_surfavg']\n",
    "temp"
   ]
  },
  {
   "cell_type": "markdown",
   "metadata": {},
   "source": [
    "## Split data"
   ]
  },
  {
   "cell_type": "code",
   "execution_count": 3,
   "metadata": {},
   "outputs": [],
   "source": [
    "temp2 = pd.concat([df.loc[0:, ['SDx']], df.loc[0:, 'L_LatVent': 'R_insula_surfavg']], axis=1, sort=False)\n",
    "temp2['Index'] = pd.Series(np.array(range(0, 1911))) #for df_to_compare \n",
    "temp2 = temp2.dropna(how='any').sample(frac=1).reset_index(drop=True)  \n",
    "train = temp2[:523]\n",
    "test = temp2[523:]\n",
    "df1_train = train.loc[0:, ['SDx']]\n",
    "df2_train = train.loc[0:, 'L_LatVent': 'R_insula_surfavg']\n",
    "df1_test = test.loc[0:, ['SDx']]\n",
    "df2_test = test.loc[0:, 'L_LatVent': 'R_insula_surfavg']"
   ]
  },
  {
   "cell_type": "code",
   "execution_count": 4,
   "metadata": {},
   "outputs": [
    {
     "data": {
      "text/html": [
       "<div>\n",
       "<style scoped>\n",
       "    .dataframe tbody tr th:only-of-type {\n",
       "        vertical-align: middle;\n",
       "    }\n",
       "\n",
       "    .dataframe tbody tr th {\n",
       "        vertical-align: top;\n",
       "    }\n",
       "\n",
       "    .dataframe thead th {\n",
       "        text-align: right;\n",
       "    }\n",
       "</style>\n",
       "<table border=\"1\" class=\"dataframe\">\n",
       "  <thead>\n",
       "    <tr style=\"text-align: right;\">\n",
       "      <th></th>\n",
       "      <th>SDx</th>\n",
       "      <th>Index</th>\n",
       "    </tr>\n",
       "  </thead>\n",
       "  <tbody>\n",
       "    <tr>\n",
       "      <td>523</td>\n",
       "      <td>0</td>\n",
       "      <td>2</td>\n",
       "    </tr>\n",
       "    <tr>\n",
       "      <td>524</td>\n",
       "      <td>0</td>\n",
       "      <td>1142</td>\n",
       "    </tr>\n",
       "    <tr>\n",
       "      <td>525</td>\n",
       "      <td>0</td>\n",
       "      <td>806</td>\n",
       "    </tr>\n",
       "    <tr>\n",
       "      <td>526</td>\n",
       "      <td>3</td>\n",
       "      <td>1322</td>\n",
       "    </tr>\n",
       "    <tr>\n",
       "      <td>527</td>\n",
       "      <td>0</td>\n",
       "      <td>125</td>\n",
       "    </tr>\n",
       "    <tr>\n",
       "      <td>...</td>\n",
       "      <td>...</td>\n",
       "      <td>...</td>\n",
       "    </tr>\n",
       "    <tr>\n",
       "      <td>1040</td>\n",
       "      <td>3</td>\n",
       "      <td>1267</td>\n",
       "    </tr>\n",
       "    <tr>\n",
       "      <td>1041</td>\n",
       "      <td>3</td>\n",
       "      <td>1605</td>\n",
       "    </tr>\n",
       "    <tr>\n",
       "      <td>1042</td>\n",
       "      <td>0</td>\n",
       "      <td>387</td>\n",
       "    </tr>\n",
       "    <tr>\n",
       "      <td>1043</td>\n",
       "      <td>0</td>\n",
       "      <td>75</td>\n",
       "    </tr>\n",
       "    <tr>\n",
       "      <td>1044</td>\n",
       "      <td>0</td>\n",
       "      <td>457</td>\n",
       "    </tr>\n",
       "  </tbody>\n",
       "</table>\n",
       "<p>522 rows × 2 columns</p>\n",
       "</div>"
      ],
      "text/plain": [
       "      SDx  Index\n",
       "523     0      2\n",
       "524     0   1142\n",
       "525     0    806\n",
       "526     3   1322\n",
       "527     0    125\n",
       "...   ...    ...\n",
       "1040    3   1267\n",
       "1041    3   1605\n",
       "1042    0    387\n",
       "1043    0     75\n",
       "1044    0    457\n",
       "\n",
       "[522 rows x 2 columns]"
      ]
     },
     "execution_count": 4,
     "metadata": {},
     "output_type": "execute_result"
    }
   ],
   "source": [
    "df_to_compare = pd.concat([temp2.loc[0:, ['SDx']], temp2.loc[0:, 'Index']], axis=1, sort=False)\n",
    "df_to_compare = df_to_compare[523:]\n",
    "df_to_compare\n",
    "# df_to_compare is the same as df1_test (SDx test values) but includes original\n",
    "# index of full df for reference"
   ]
  },
  {
   "cell_type": "code",
   "execution_count": 5,
   "metadata": {},
   "outputs": [],
   "source": [
    "y = np.array(df1).ravel()\n",
    "x = np.array(df2)\n",
    "y_train = np.array(df1_train).ravel()\n",
    "x_train = np.array(df2_train)\n",
    "y_test = np.array(df1_test).ravel()\n",
    "x_test = np.array(df2_test)"
   ]
  },
  {
   "cell_type": "markdown",
   "metadata": {},
   "source": [
    "# MinMaxScaler"
   ]
  },
  {
   "cell_type": "code",
   "execution_count": 6,
   "metadata": {},
   "outputs": [],
   "source": [
    "from sklearn.preprocessing import MinMaxScaler"
   ]
  },
  {
   "cell_type": "code",
   "execution_count": 7,
   "metadata": {},
   "outputs": [],
   "source": [
    "mri_scaler = MinMaxScaler()\n",
    "mri_scaler2 = MinMaxScaler()"
   ]
  },
  {
   "cell_type": "markdown",
   "metadata": {},
   "source": [
    "# LinearSVC"
   ]
  },
  {
   "cell_type": "code",
   "execution_count": 8,
   "metadata": {},
   "outputs": [],
   "source": [
    "from sklearn.svm import LinearSVC"
   ]
  },
  {
   "cell_type": "code",
   "execution_count": 9,
   "metadata": {},
   "outputs": [],
   "source": [
    "mri_LinearSVC = LinearSVC()"
   ]
  },
  {
   "cell_type": "markdown",
   "metadata": {},
   "source": [
    "# SVC"
   ]
  },
  {
   "cell_type": "code",
   "execution_count": 10,
   "metadata": {},
   "outputs": [],
   "source": [
    "from sklearn.svm import SVC"
   ]
  },
  {
   "cell_type": "code",
   "execution_count": 11,
   "metadata": {},
   "outputs": [],
   "source": [
    "mri_SVC = SVC()"
   ]
  },
  {
   "cell_type": "markdown",
   "metadata": {},
   "source": [
    "# LinearSVC Pipeline"
   ]
  },
  {
   "cell_type": "code",
   "execution_count": 12,
   "metadata": {},
   "outputs": [],
   "source": [
    "from sklearn.pipeline import Pipeline"
   ]
  },
  {
   "cell_type": "code",
   "execution_count": 13,
   "metadata": {},
   "outputs": [],
   "source": [
    "mri_svm = Pipeline([('scaler', mri_scaler), ('svc', mri_LinearSVC)])"
   ]
  },
  {
   "cell_type": "code",
   "execution_count": 14,
   "metadata": {},
   "outputs": [
    {
     "data": {
      "text/plain": [
       "Pipeline(memory=None,\n",
       "         steps=[('scaler', MinMaxScaler(copy=True, feature_range=(0, 1))),\n",
       "                ('svc',\n",
       "                 LinearSVC(C=0.1, class_weight=None, dual=True,\n",
       "                           fit_intercept=True, intercept_scaling=1,\n",
       "                           loss='squared_hinge', max_iter=1000,\n",
       "                           multi_class='ovr', penalty='l2', random_state=None,\n",
       "                           tol=0.0001, verbose=0))],\n",
       "         verbose=False)"
      ]
     },
     "execution_count": 14,
     "metadata": {},
     "output_type": "execute_result"
    }
   ],
   "source": [
    "mri_svm.set_params(scaler__copy=True, svc__C=.1)\n",
    "## still not sure what copy does"
   ]
  },
  {
   "cell_type": "code",
   "execution_count": 15,
   "metadata": {
    "scrolled": true
   },
   "outputs": [
    {
     "data": {
      "text/plain": [
       "0.9061302681992337"
      ]
     },
     "execution_count": 15,
     "metadata": {},
     "output_type": "execute_result"
    }
   ],
   "source": [
    "mri_svm.fit(x_train, y_train)\n",
    "mri_svm.score(x_test, y_test)\n",
    "# what does fit_transform do?"
   ]
  },
  {
   "cell_type": "code",
   "execution_count": 16,
   "metadata": {},
   "outputs": [
    {
     "name": "stderr",
     "output_type": "stream",
     "text": [
      "C:\\Users\\caron\\Anaconda3\\lib\\site-packages\\sklearn\\svm\\base.py:929: ConvergenceWarning: Liblinear failed to converge, increase the number of iterations.\n",
      "  \"the number of iterations.\", ConvergenceWarning)\n"
     ]
    },
    {
     "data": {
      "text/plain": [
       "0.8716475095785441"
      ]
     },
     "execution_count": 16,
     "metadata": {},
     "output_type": "execute_result"
    }
   ],
   "source": [
    "xxx = LinearSVC(C=.1)\n",
    "xxx.fit(x_train, y_train)\n",
    "xxx.score(x_test, y_test)\n",
    "# without scaler, its almost always less accurate at\n",
    "# C=.1 but more accurate at 10 and .01 where pipeline has\n",
    "# huge variation. Most accurate with pipeline at .1"
   ]
  },
  {
   "cell_type": "code",
   "execution_count": 17,
   "metadata": {},
   "outputs": [
    {
     "data": {
      "text/plain": [
       "array([0, 0, 0, 3, 0, 0, 3, 3, 3, 0, 0, 0, 0, 3, 0, 0, 0, 0, 0, 3, 0, 3,\n",
       "       0, 0, 3, 0, 0, 0, 0, 0, 0, 0, 3, 0, 0, 3, 3, 3, 0, 0, 0, 3, 0, 0,\n",
       "       3, 3, 0, 3, 0, 0, 0, 0, 3, 0, 0, 0, 0, 0, 0, 0, 0, 0, 0, 0, 0, 0,\n",
       "       0, 0, 0, 0, 0, 0, 3, 3, 0, 0, 3, 0, 3, 3, 0, 0, 3, 0, 3, 3, 0, 0,\n",
       "       3, 0, 0, 0, 0, 3, 0, 0, 0, 3, 3, 0, 0, 0, 0, 0, 3, 0, 0, 0, 0, 0,\n",
       "       0, 3, 3, 0, 0, 0, 3, 0, 0, 3, 0, 3, 3, 3, 0, 3, 3, 3, 0, 0, 0, 3,\n",
       "       0, 3, 0, 0, 3, 3, 3, 0, 0, 0, 0, 0, 0, 3, 0, 0, 3, 3, 0, 3, 0, 0,\n",
       "       3, 0, 0, 0, 0, 0, 0, 0, 0, 3, 0, 0, 0, 3, 0, 0, 0, 3, 0, 0, 0, 3,\n",
       "       3, 3, 0, 3, 0, 0, 0, 0, 0, 0, 0, 0, 0, 0, 0, 0, 0, 0, 0, 0, 3, 0,\n",
       "       0, 0, 3, 3, 0, 3, 0, 0, 3, 0, 0, 0, 0, 0, 0, 0, 0, 3, 3, 0, 0, 3,\n",
       "       0, 3, 0, 0, 0, 3, 0, 0, 0, 0, 0, 0, 3, 0, 0, 0, 0, 0, 0, 0, 0, 3,\n",
       "       0, 3, 0, 0, 3, 0, 0, 0, 0, 0, 3, 0, 0, 0, 0, 0, 0, 0, 0, 3, 0, 0,\n",
       "       0, 3, 0, 0, 0, 0, 3, 0, 0, 3, 3, 3, 3, 0, 0, 0, 0, 0, 0, 3, 0, 0,\n",
       "       0, 0, 0, 0, 3, 0, 0, 0, 3, 0, 0, 0, 0, 0, 3, 0, 0, 0, 3, 3, 0, 0,\n",
       "       0, 3, 0, 0, 0, 0, 0, 0, 0, 3, 0, 0, 0, 0, 0, 0, 0, 0, 0, 0, 0, 3,\n",
       "       0, 0, 3, 0, 0, 0, 0, 0, 3, 0, 3, 0, 0, 3, 0, 0, 0, 0, 3, 0, 0, 0,\n",
       "       0, 0, 0, 3, 0, 0, 3, 0, 0, 0, 0, 0, 0, 0, 0, 3, 3, 3, 0, 0, 0, 0,\n",
       "       3, 3, 0, 0, 0, 0, 3, 0, 0, 0, 0, 0, 0, 0, 0, 0, 0, 0, 0, 0, 0, 0,\n",
       "       0, 0, 0, 0, 0, 0, 3, 0, 0, 0, 0, 0, 0, 3, 0, 3, 0, 0, 0, 0, 3, 0,\n",
       "       0, 0, 0, 3, 3, 0, 0, 0, 3, 0, 0, 0, 3, 0, 0, 0, 0, 0, 0, 0, 0, 0,\n",
       "       0, 3, 0, 0, 0, 3, 0, 0, 0, 0, 3, 3, 3, 0, 0, 3, 3, 3, 3, 0, 0, 0,\n",
       "       3, 0, 0, 0, 3, 0, 0, 3, 0, 0, 0, 3, 0, 3, 0, 0, 0, 0, 0, 3, 0, 0,\n",
       "       0, 0, 0, 0, 0, 0, 0, 0, 0, 0, 0, 0, 0, 0, 0, 0, 0, 3, 0, 0, 0, 3,\n",
       "       3, 0, 0, 0, 0, 0, 0, 0, 3, 0, 0, 3, 3, 0, 0, 0], dtype=int64)"
      ]
     },
     "execution_count": 17,
     "metadata": {},
     "output_type": "execute_result"
    }
   ],
   "source": [
    "mri_predict = mri_svm.predict(x_test)\n",
    "# predictions in numpy array\n",
    "mri_predict"
   ]
  },
  {
   "cell_type": "code",
   "execution_count": 18,
   "metadata": {},
   "outputs": [
    {
     "data": {
      "text/html": [
       "<div>\n",
       "<style scoped>\n",
       "    .dataframe tbody tr th:only-of-type {\n",
       "        vertical-align: middle;\n",
       "    }\n",
       "\n",
       "    .dataframe tbody tr th {\n",
       "        vertical-align: top;\n",
       "    }\n",
       "\n",
       "    .dataframe thead th {\n",
       "        text-align: right;\n",
       "    }\n",
       "</style>\n",
       "<table border=\"1\" class=\"dataframe\">\n",
       "  <thead>\n",
       "    <tr style=\"text-align: right;\">\n",
       "      <th></th>\n",
       "      <th>SDx</th>\n",
       "    </tr>\n",
       "  </thead>\n",
       "  <tbody>\n",
       "    <tr>\n",
       "      <td>0</td>\n",
       "      <td>0</td>\n",
       "    </tr>\n",
       "    <tr>\n",
       "      <td>1</td>\n",
       "      <td>0</td>\n",
       "    </tr>\n",
       "    <tr>\n",
       "      <td>2</td>\n",
       "      <td>0</td>\n",
       "    </tr>\n",
       "    <tr>\n",
       "      <td>3</td>\n",
       "      <td>3</td>\n",
       "    </tr>\n",
       "    <tr>\n",
       "      <td>4</td>\n",
       "      <td>0</td>\n",
       "    </tr>\n",
       "    <tr>\n",
       "      <td>...</td>\n",
       "      <td>...</td>\n",
       "    </tr>\n",
       "    <tr>\n",
       "      <td>517</td>\n",
       "      <td>3</td>\n",
       "    </tr>\n",
       "    <tr>\n",
       "      <td>518</td>\n",
       "      <td>3</td>\n",
       "    </tr>\n",
       "    <tr>\n",
       "      <td>519</td>\n",
       "      <td>0</td>\n",
       "    </tr>\n",
       "    <tr>\n",
       "      <td>520</td>\n",
       "      <td>0</td>\n",
       "    </tr>\n",
       "    <tr>\n",
       "      <td>521</td>\n",
       "      <td>0</td>\n",
       "    </tr>\n",
       "  </tbody>\n",
       "</table>\n",
       "<p>522 rows × 1 columns</p>\n",
       "</div>"
      ],
      "text/plain": [
       "     SDx\n",
       "0      0\n",
       "1      0\n",
       "2      0\n",
       "3      3\n",
       "4      0\n",
       "..   ...\n",
       "517    3\n",
       "518    3\n",
       "519    0\n",
       "520    0\n",
       "521    0\n",
       "\n",
       "[522 rows x 1 columns]"
      ]
     },
     "execution_count": 18,
     "metadata": {},
     "output_type": "execute_result"
    }
   ],
   "source": [
    "SDx_df = pd.DataFrame(data=mri_predict, columns=[\"SDx\"])\n",
    "SDx_df"
   ]
  },
  {
   "cell_type": "code",
   "execution_count": 19,
   "metadata": {},
   "outputs": [
    {
     "data": {
      "text/html": [
       "<div>\n",
       "<style scoped>\n",
       "    .dataframe tbody tr th:only-of-type {\n",
       "        vertical-align: middle;\n",
       "    }\n",
       "\n",
       "    .dataframe tbody tr th {\n",
       "        vertical-align: top;\n",
       "    }\n",
       "\n",
       "    .dataframe thead th {\n",
       "        text-align: right;\n",
       "    }\n",
       "</style>\n",
       "<table border=\"1\" class=\"dataframe\">\n",
       "  <thead>\n",
       "    <tr style=\"text-align: right;\">\n",
       "      <th></th>\n",
       "      <th>SDx</th>\n",
       "      <th>Index</th>\n",
       "    </tr>\n",
       "  </thead>\n",
       "  <tbody>\n",
       "    <tr>\n",
       "      <td>523</td>\n",
       "      <td>0</td>\n",
       "      <td>2</td>\n",
       "    </tr>\n",
       "    <tr>\n",
       "      <td>524</td>\n",
       "      <td>0</td>\n",
       "      <td>1142</td>\n",
       "    </tr>\n",
       "    <tr>\n",
       "      <td>525</td>\n",
       "      <td>0</td>\n",
       "      <td>806</td>\n",
       "    </tr>\n",
       "    <tr>\n",
       "      <td>526</td>\n",
       "      <td>3</td>\n",
       "      <td>1322</td>\n",
       "    </tr>\n",
       "    <tr>\n",
       "      <td>527</td>\n",
       "      <td>0</td>\n",
       "      <td>125</td>\n",
       "    </tr>\n",
       "    <tr>\n",
       "      <td>...</td>\n",
       "      <td>...</td>\n",
       "      <td>...</td>\n",
       "    </tr>\n",
       "    <tr>\n",
       "      <td>1040</td>\n",
       "      <td>3</td>\n",
       "      <td>1267</td>\n",
       "    </tr>\n",
       "    <tr>\n",
       "      <td>1041</td>\n",
       "      <td>3</td>\n",
       "      <td>1605</td>\n",
       "    </tr>\n",
       "    <tr>\n",
       "      <td>1042</td>\n",
       "      <td>0</td>\n",
       "      <td>387</td>\n",
       "    </tr>\n",
       "    <tr>\n",
       "      <td>1043</td>\n",
       "      <td>0</td>\n",
       "      <td>75</td>\n",
       "    </tr>\n",
       "    <tr>\n",
       "      <td>1044</td>\n",
       "      <td>0</td>\n",
       "      <td>457</td>\n",
       "    </tr>\n",
       "  </tbody>\n",
       "</table>\n",
       "<p>522 rows × 2 columns</p>\n",
       "</div>"
      ],
      "text/plain": [
       "      SDx  Index\n",
       "523     0      2\n",
       "524     0   1142\n",
       "525     0    806\n",
       "526     3   1322\n",
       "527     0    125\n",
       "...   ...    ...\n",
       "1040    3   1267\n",
       "1041    3   1605\n",
       "1042    0    387\n",
       "1043    0     75\n",
       "1044    0    457\n",
       "\n",
       "[522 rows x 2 columns]"
      ]
     },
     "execution_count": 19,
     "metadata": {},
     "output_type": "execute_result"
    }
   ],
   "source": [
    "df_to_compare\n",
    "## correct SDx w/ index from original df"
   ]
  },
  {
   "cell_type": "markdown",
   "metadata": {},
   "source": [
    "# SVC Pipeline"
   ]
  },
  {
   "cell_type": "code",
   "execution_count": 20,
   "metadata": {},
   "outputs": [],
   "source": [
    "mri_svm2 = Pipeline([('scaler', mri_scaler2), ('svc', mri_SVC)])"
   ]
  },
  {
   "cell_type": "code",
   "execution_count": 21,
   "metadata": {},
   "outputs": [
    {
     "data": {
      "text/plain": [
       "Pipeline(memory=None,\n",
       "         steps=[('scaler', MinMaxScaler(copy=True, feature_range=(0, 1))),\n",
       "                ('svc',\n",
       "                 SVC(C=1.1, cache_size=200, class_weight=None, coef0=0.0,\n",
       "                     decision_function_shape='ovr', degree=3, gamma='scale',\n",
       "                     kernel='rbf', max_iter=-1, probability=False,\n",
       "                     random_state=None, shrinking=True, tol=0.001,\n",
       "                     verbose=False))],\n",
       "         verbose=False)"
      ]
     },
     "execution_count": 21,
     "metadata": {},
     "output_type": "execute_result"
    }
   ],
   "source": [
    "mri_svm2.set_params(scaler__copy=True, svc__C=1.1, svc__gamma='scale', svc__kernel='rbf')"
   ]
  },
  {
   "cell_type": "code",
   "execution_count": 22,
   "metadata": {},
   "outputs": [
    {
     "data": {
      "text/plain": [
       "0.896551724137931"
      ]
     },
     "execution_count": 22,
     "metadata": {},
     "output_type": "execute_result"
    }
   ],
   "source": [
    "mri_svm2.fit(x_train, y_train)\n",
    "mri_svm2.score(x_test, y_test)\n",
    "# what does fit_transform do?"
   ]
  },
  {
   "cell_type": "code",
   "execution_count": 23,
   "metadata": {},
   "outputs": [
    {
     "data": {
      "text/plain": [
       "0.8103448275862069"
      ]
     },
     "execution_count": 23,
     "metadata": {},
     "output_type": "execute_result"
    }
   ],
   "source": [
    "xxx2 = SVC(C=1.1, gamma='scale', kernel='rbf')\n",
    "xxx2.fit(x_train, y_train)\n",
    "xxx2.score(x_test, y_test)\n",
    "# without scaler"
   ]
  },
  {
   "cell_type": "markdown",
   "metadata": {},
   "source": [
    "# Cross Validation Linear"
   ]
  },
  {
   "cell_type": "code",
   "execution_count": 24,
   "metadata": {},
   "outputs": [],
   "source": [
    "from sklearn.model_selection import cross_validate"
   ]
  },
  {
   "cell_type": "code",
   "execution_count": 25,
   "metadata": {},
   "outputs": [],
   "source": [
    "mri_cv = cross_validate(mri_svm, x, y, cv=5, return_train_score=True)"
   ]
  },
  {
   "cell_type": "code",
   "execution_count": 26,
   "metadata": {},
   "outputs": [
    {
     "data": {
      "text/plain": [
       "array([0.69047619, 0.75119617, 0.81818182, 0.94736842, 0.89903846])"
      ]
     },
     "execution_count": 26,
     "metadata": {},
     "output_type": "execute_result"
    }
   ],
   "source": [
    "mri_cv['test_score']"
   ]
  },
  {
   "cell_type": "code",
   "execution_count": 27,
   "metadata": {},
   "outputs": [
    {
     "data": {
      "text/plain": [
       "array([0.92095808, 0.95454545, 0.94258373, 0.91866029, 0.91875747])"
      ]
     },
     "execution_count": 27,
     "metadata": {},
     "output_type": "execute_result"
    }
   ],
   "source": [
    "mri_cv['train_score']"
   ]
  },
  {
   "cell_type": "markdown",
   "metadata": {},
   "source": [
    "# Cross Validation Non-Linear"
   ]
  },
  {
   "cell_type": "code",
   "execution_count": 28,
   "metadata": {},
   "outputs": [],
   "source": [
    "mri_cv = cross_validate(mri_svm2, x, y, cv=5, return_train_score=True)"
   ]
  },
  {
   "cell_type": "code",
   "execution_count": 29,
   "metadata": {},
   "outputs": [
    {
     "data": {
      "text/plain": [
       "array([0.75238095, 0.76555024, 0.82296651, 0.95215311, 0.93269231])"
      ]
     },
     "execution_count": 29,
     "metadata": {},
     "output_type": "execute_result"
    }
   ],
   "source": [
    "mri_cv['test_score']"
   ]
  },
  {
   "cell_type": "code",
   "execution_count": 30,
   "metadata": {},
   "outputs": [
    {
     "data": {
      "text/plain": [
       "array([0.92934132, 0.96052632, 0.95334928, 0.93779904, 0.94384707])"
      ]
     },
     "execution_count": 30,
     "metadata": {},
     "output_type": "execute_result"
    }
   ],
   "source": [
    "mri_cv['train_score']"
   ]
  },
  {
   "cell_type": "markdown",
   "metadata": {},
   "source": [
    "# Cross Validate Predict Linear"
   ]
  },
  {
   "cell_type": "code",
   "execution_count": 31,
   "metadata": {},
   "outputs": [],
   "source": [
    "from sklearn.model_selection import cross_val_predict"
   ]
  },
  {
   "cell_type": "code",
   "execution_count": 32,
   "metadata": {},
   "outputs": [],
   "source": [
    "mri_cvp = cross_val_predict(mri_svm, x, y, cv=5)"
   ]
  },
  {
   "cell_type": "code",
   "execution_count": 33,
   "metadata": {},
   "outputs": [
    {
     "data": {
      "text/plain": [
       "array([0, 0, 0, ..., 3, 3, 3], dtype=int64)"
      ]
     },
     "execution_count": 33,
     "metadata": {},
     "output_type": "execute_result"
    }
   ],
   "source": [
    "mri_cvp\n",
    "# predictions in numpy array"
   ]
  },
  {
   "cell_type": "code",
   "execution_count": 34,
   "metadata": {},
   "outputs": [],
   "source": [
    "SDx_df2 = pd.DataFrame(data=mri_cvp, columns=[\"SDx\"])"
   ]
  },
  {
   "cell_type": "code",
   "execution_count": 35,
   "metadata": {},
   "outputs": [
    {
     "data": {
      "text/html": [
       "<div>\n",
       "<style scoped>\n",
       "    .dataframe tbody tr th:only-of-type {\n",
       "        vertical-align: middle;\n",
       "    }\n",
       "\n",
       "    .dataframe tbody tr th {\n",
       "        vertical-align: top;\n",
       "    }\n",
       "\n",
       "    .dataframe thead th {\n",
       "        text-align: right;\n",
       "    }\n",
       "</style>\n",
       "<table border=\"1\" class=\"dataframe\">\n",
       "  <thead>\n",
       "    <tr style=\"text-align: right;\">\n",
       "      <th></th>\n",
       "      <th>SDx</th>\n",
       "    </tr>\n",
       "  </thead>\n",
       "  <tbody>\n",
       "    <tr>\n",
       "      <td>0</td>\n",
       "      <td>0</td>\n",
       "    </tr>\n",
       "    <tr>\n",
       "      <td>1</td>\n",
       "      <td>0</td>\n",
       "    </tr>\n",
       "    <tr>\n",
       "      <td>2</td>\n",
       "      <td>0</td>\n",
       "    </tr>\n",
       "    <tr>\n",
       "      <td>3</td>\n",
       "      <td>0</td>\n",
       "    </tr>\n",
       "    <tr>\n",
       "      <td>4</td>\n",
       "      <td>0</td>\n",
       "    </tr>\n",
       "    <tr>\n",
       "      <td>...</td>\n",
       "      <td>...</td>\n",
       "    </tr>\n",
       "    <tr>\n",
       "      <td>1040</td>\n",
       "      <td>3</td>\n",
       "    </tr>\n",
       "    <tr>\n",
       "      <td>1041</td>\n",
       "      <td>3</td>\n",
       "    </tr>\n",
       "    <tr>\n",
       "      <td>1042</td>\n",
       "      <td>3</td>\n",
       "    </tr>\n",
       "    <tr>\n",
       "      <td>1043</td>\n",
       "      <td>3</td>\n",
       "    </tr>\n",
       "    <tr>\n",
       "      <td>1044</td>\n",
       "      <td>3</td>\n",
       "    </tr>\n",
       "  </tbody>\n",
       "</table>\n",
       "<p>1045 rows × 1 columns</p>\n",
       "</div>"
      ],
      "text/plain": [
       "      SDx\n",
       "0       0\n",
       "1       0\n",
       "2       0\n",
       "3       0\n",
       "4       0\n",
       "...   ...\n",
       "1040    3\n",
       "1041    3\n",
       "1042    3\n",
       "1043    3\n",
       "1044    3\n",
       "\n",
       "[1045 rows x 1 columns]"
      ]
     },
     "execution_count": 35,
     "metadata": {},
     "output_type": "execute_result"
    }
   ],
   "source": [
    "SDx_df2\n",
    "# predictions in pandas datafram"
   ]
  },
  {
   "cell_type": "code",
   "execution_count": null,
   "metadata": {},
   "outputs": [],
   "source": []
  },
  {
   "cell_type": "code",
   "execution_count": null,
   "metadata": {},
   "outputs": [],
   "source": []
  }
 ],
 "metadata": {
  "kernelspec": {
   "display_name": "Python 3",
   "language": "python",
   "name": "python3"
  },
  "language_info": {
   "codemirror_mode": {
    "name": "ipython",
    "version": 3
   },
   "file_extension": ".py",
   "mimetype": "text/x-python",
   "name": "python",
   "nbconvert_exporter": "python",
   "pygments_lexer": "ipython3",
   "version": "3.7.4"
  }
 },
 "nbformat": 4,
 "nbformat_minor": 2
}
